{
 "cells": [
  {
   "cell_type": "code",
   "execution_count": 1,
   "metadata": {},
   "outputs": [],
   "source": [
    "from qiskit import QuantumCircuit, transpile\n",
    "# from qiskit.providers.aer import QasmSimulator\n",
    "# from qiskit.providers.basicaer import QasmSimulatorPy\n",
    "from qiskit_aer import AerSimulator\n",
    "from qiskit.providers.fake_provider import FakeManila, FakeToronto, FakeJakartaV2, FakeProvider\n",
    "from qiskit.circuit import Parameter\n",
    "from qiskit.circuit.library import PauliEvolutionGate\n",
    "from qiskit.synthesis import QDrift, LieTrotter, SuzukiTrotter\n",
    "\n",
    "import numpy as np\n",
    "import statsmodels.api as sm\n",
    "import matplotlib.pyplot as plt\n",
    "import seaborn as sns\n",
    "import pandas as pd\n",
    "import sklearn.preprocessing as skp\n",
    "from scipy.signal import savgol_filter\n",
    "import os\n",
    "import sys\n",
    "from datetime import date\n",
    "import pathlib\n",
    "import inspect\n",
    "import time\n",
    "import glob\n",
    "\n",
    "import warnings\n",
    "warnings.simplefilter(action='ignore', category=FutureWarning)\n",
    "\n",
    "module_path = os.path.abspath(os.path.join('..')) # qrc_surrogate\n",
    "sys.path.append(module_path)\n",
    "fig_path = f'{module_path}/figs'\n",
    "\n",
    "\n",
    "from src.feedforward import QExtremeLearningMachine, CPolynomialFeedforward\n",
    "from src.rewinding import QRewindingRC, QRewindingStatevectorRC,QRewindingRC_Async,QRewindingRC_Custom\n",
    "from src.data import DataSource\n",
    "\n",
    "from iqm.qiskit_iqm import IQMFakeAdonis\n",
    "from iqm.qiskit_iqm import IQMProvider,transpile_to_IQM\n",
    "\n",
    "server_url = \"https://cocos.resonance.meetiqm.com/garnet\"  # For example https://cocos.resonance.meetiqm.com/garnet\n",
    "api_token = \"287K1FQqLZ9JU+FxO6C4l6TXENKy0SFUO8h5P4po3DIGZeGb5qhzo4AAi21PIAqd\"\n",
    "\n",
    "SHOTS = 8000\n",
    "\n",
    "backend = IQMProvider(server_url, token=api_token).get_backend()"
   ]
  },
  {
   "cell_type": "code",
   "execution_count": null,
   "metadata": {},
   "outputs": [],
   "source": [
    "Batch_Set_Parameters = {'reset_instead_meas':False, # whether to reset or measure data qubits. Not relevant due to architecture.\n",
    "                             'mend':False, # not used by this architecture.\n",
    "                              'add_y_to_input':True, # In our experiment, this means use previous temperatures to predict future steps.\n",
    "                              'mtype':'projection', # weak measurements are not supported.\n",
    "                              'minc':True, # not used by this architecture.\n",
    "                              'reseti':False, #reset before measurement. Not possible for us.\n",
    "                              'resetm':False, #reset after measurement. Not relevant for us.\n",
    "                              'xyoffset':1, # Use x_t, y_(t-1). Necessary for reactor data.\n",
    "\n",
    "                              #Not used for real backend:\n",
    "                              'sim':'aer_simulator', \n",
    "                              't1':50, \n",
    "                              'sim_method':'statevector', \n",
    "                              'sim_precision':'single',\n",
    "                              'strip_metadata' : False,\n",
    "                              'initial_layout' : None,\n",
    "                              'verbose' : True\n",
    "\n",
    "                              \n",
    "                              \n",
    "                              \n",
    "\n",
    "\n",
    "\n",
    "\n",
    "\n",
    "\n",
    "\n",
    "\n",
    "                             \n",
    "                             }\n",
    "\n",
    "Batch_Free_Parameters = {'use_partial_meas':True, # determines whether measurement results from previous steps are used as features.\n",
    "                              'lookback':1, # Number of previous time steps to be used\n",
    "                              'restarting':False, # If true, uses all previous time steps.\n",
    "                              'lookback_max':False, #If true AND restarting is false, will add time steps before t=0 for ensure lookback. CHECK!\n",
    "                              'washout':0, # Ignore the first <washout> steps when fitting.\n",
    "                              'preloading':0, # Repeat the first step <PREDLOADING> times in data.\n",
    "                              'nmeas':2, # How many measurements are made after each rewind step. Only relevant when using partial measurements.\n",
    "                              'nenccopies':1, #Number of times each data point is entered. Requires more qubits for each repetition. \n",
    "                              'set_past_y_to_0':False, #If true, t<0 steps are set to 0.\n",
    "                              'use_true_y_in_val':False, # If false, Rollout predictions are performed.\n",
    "                              'rseed':0, # Random seed used to choose parameters.\n",
    "                              'log':True, # Save the results of the run. \n",
    "                              'add_x_as_feature':True, #Use x directly as a feature as well as circuit results.\n",
    "                              'nyfuture':1, #How many steps in the future to predict. Only the next step is used for eval.\n",
    "                               'delete_future_y':True, #If predicting multiple future steps, if no step exists, delete (True) or duplicate last (False).\n",
    "                                'fitter':'sklearn', # set to sklearn_poly for higher order fits.\n",
    "                                'regression_model':'regression', #Options: ‘ridge’, ‘lasso’, ‘elasticnet’, ‘linear’.\n",
    "                                'regression_alpha':0.1, # Regularization parameter for ridge, lasso, elasticnet.\n",
    "                                'regression_l1':0.1, #L1 ratio for elasticnet.\n",
    "                                'poly_degree':3, #degree of sklearn_poly polynomial fits.\n",
    "                                'nqubits':5, #Number of qubits for a single Unitary step.\n",
    "                                'qctype':'ising_hadamard', # unitary choice. \n",
    "                                'qinit':'none', #perform an initial step.\n",
    "                                'ftype':3, #N Body correllations to measure.\n",
    "                                'nlayers':1, # How many times the unitary is applied at each step.'\n",
    "                              'enctype':'angle', #How to input data into the circuits.\n",
    "                              'encaxes':1, #How many times to encode the data.\n",
    "                              'measaxes':3, #Number of different Pauli basis to measure.\n",
    "                              'shots':8192,\n",
    "                              'ising_t':1, \n",
    "                              'ising_jmax':1, \n",
    "                              'ising_h':0.1, \n",
    "                              'ising_wmax':10, \n",
    "                              'ising_random':True, \n",
    "                              'ising_jpositive':False, \n",
    "                              'ising_wpositive':False,\n",
    "                              'sim':backend, \n",
    "                              'file_name':'Real_Garnet_Batched',\n",
    "                              'max_batch': 20000, #All relate to the batch code from Alessio.\n",
    "                              'max_tries' : 10,\n",
    "                              'max_circuit' : 500,\n",
    "                              'verbose': True,\n",
    "                              'calibration_set_id' : None,\n",
    "                              'qubits':None,\n",
    "                              'reduced_coupling_map':None,\n",
    "                              'initial_layout':None,\n",
    "                              'total_req':19,\n",
    "                              'max_concurrent': 100\n",
    "\n",
    "                          \n",
    "\n",
    "\n",
    "}\n",
    "fulldict = Batch_Set_Parameters | Batch_Free_Parameters\n",
    "\n",
    "# By contrast, we here are trying to run a full simulation of an 11 qubit circuit. Fake Apollo is 20 qubits, so should work...\n",
    "rnn_h_full_2 = QRewindingRC_Ansync(**fulldict)\n",
    "data = DataSource(xtype='reactor', ytype='reactor', xnorm='norm', ynorm='norm', rseed_data=9369)\n",
    "rnn_h_full_2.prepare(data)\n",
    "rnn_h_full_2.train(resume=True,wait=True,recheck=600)\n"
   ]
  },
  {
   "cell_type": "code",
   "execution_count": null,
   "metadata": {},
   "outputs": [],
   "source": [
    "test=[('CANCELLED', 0), ('DONE', 0), ('ERROR', 0), ('INITIALIZING', 0), ('QUEUED', 87), ('RUNNING', 0), ('VALIDATING', 0)]"
   ]
  },
  {
   "cell_type": "code",
   "execution_count": null,
   "metadata": {},
   "outputs": [],
   "source": [
    "import pandas as pd\n",
    "pd.read_parquet('../experiments/results/Fake_Apollo.parquet')"
   ]
  },
  {
   "cell_type": "code",
   "execution_count": null,
   "metadata": {},
   "outputs": [],
   "source": [
    "from iqm.qiskit_iqm import IQMJob\n",
    "Fail_Job=IQMJob(backend,'0666832e-c594-7e98-8000-13fa577a4982')"
   ]
  },
  {
   "cell_type": "code",
   "execution_count": null,
   "metadata": {},
   "outputs": [],
   "source": [
    "Fail_Job.result()"
   ]
  },
  {
   "cell_type": "code",
   "execution_count": null,
   "metadata": {},
   "outputs": [],
   "source": [
    "print('test',end=\"\\r\")\n",
    "print('      ',end='\\r')\n",
    "print('sho',flush=True)"
   ]
  },
  {
   "cell_type": "code",
   "execution_count": null,
   "metadata": {},
   "outputs": [],
   "source": [
    "for i in range(3):\n",
    "    print('test'+'%s' % (i))"
   ]
  },
  {
   "cell_type": "code",
   "execution_count": null,
   "metadata": {},
   "outputs": [],
   "source": [
    "Batch_Set_Parameters = {'reset_instead_meas':False, # whether to reset or measure data qubits. Not relevant due to architecture.\n",
    "                             'mend':False, # not used by this architecture.\n",
    "                              'add_y_to_input':True, # In our experiment, this means use previous temperatures to predict future steps.\n",
    "                              'mtype':'projection', # weak measurements are not supported.\n",
    "                              'minc':True, # not used by this architecture.\n",
    "                              'reseti':False, #reset before measurement. Not possible for us.\n",
    "                              'resetm':False, #reset after measurement. Not relevant for us.\n",
    "                              'xyoffset':1, # Use x_t, y_(t-1). Necessary for reactor data.\n",
    "\n",
    "                              #Not used for real backend:\n",
    "                              'sim':'aer_simulator', \n",
    "                              't1':50, \n",
    "                              'sim_method':'statevector', \n",
    "                              'sim_precision':'single',\n",
    "                              'strip_metadata' : False,\n",
    "                              'initial_layout' : None,\n",
    "                              'verbose' : True\n",
    "\n",
    "                              \n",
    "                              \n",
    "                              \n",
    "\n",
    "\n",
    "\n",
    "\n",
    "\n",
    "\n",
    "\n",
    "\n",
    "                             \n",
    "                             }\n",
    "\n",
    "Batch_Free_Parameters = {'use_partial_meas':True, # determines whether measurement results from previous steps are used as features.\n",
    "                              'lookback':1, # Number of previous time steps to be used\n",
    "                              'restarting':False, # If true, uses all previous time steps.\n",
    "                              'lookback_max':False, #If true AND restarting is false, will add time steps before t=0 for ensure lookback. CHECK!\n",
    "                              'washout':0, # Ignore the first <washout> steps when fitting.\n",
    "                              'preloading':0, # Repeat the first step <PREDLOADING> times in data.\n",
    "                              'nmeas':2, # How many measurements are made after each rewind step. Only relevant when using partial measurements.\n",
    "                              'nenccopies':1, #Number of times each data point is entered. Requires more qubits for each repetition. \n",
    "                              'set_past_y_to_0':False, #If true, t<0 steps are set to 0.\n",
    "                              'use_true_y_in_val':False, # If false, Rollout predictions are performed.\n",
    "                              'rseed':0, # Random seed used to choose parameters.\n",
    "                              'log':True, # Save the results of the run. \n",
    "                              'add_x_as_feature':True, #Use x directly as a feature as well as circuit results.\n",
    "                              'nyfuture':1, #How many steps in the future to predict. Only the next step is used for eval.\n",
    "                               'delete_future_y':True, #If predicting multiple future steps, if no step exists, delete (True) or duplicate last (False).\n",
    "                                'fitter':'sklearn', # set to sklearn_poly for higher order fits.\n",
    "                                'regression_model':'regression', #Options: ‘ridge’, ‘lasso’, ‘elasticnet’, ‘linear’.\n",
    "                                'regression_alpha':0.1, # Regularization parameter for ridge, lasso, elasticnet.\n",
    "                                'regression_l1':0.1, #L1 ratio for elasticnet.\n",
    "                                'poly_degree':3, #degree of sklearn_poly polynomial fits.\n",
    "                                'nqubits':5, #Number of qubits for a single Unitary step.\n",
    "                                'qctype':'ising_hadamard', # unitary choice. \n",
    "                                'qinit':'none', #perform an initial step.\n",
    "                                'ftype':3, #N Body correllations to measure.\n",
    "                                'nlayers':1, # How many times the unitary is applied at each step.'\n",
    "                              'enctype':'angle', #How to input data into the circuits.\n",
    "                              'encaxes':1, #How many times to encode the data.\n",
    "                              'measaxes':3, #Number of different Pauli basis to measure.\n",
    "                              'shots':8192,\n",
    "                              'ising_t':1, \n",
    "                              'ising_jmax':1, \n",
    "                              'ising_h':0.1, \n",
    "                              'ising_wmax':10, \n",
    "                              'ising_random':True, \n",
    "                              'ising_jpositive':False, \n",
    "                              'ising_wpositive':False,\n",
    "                              'sim':backend, \n",
    "                              'file_name':'Real_Garnet_Batched_Short',\n",
    "                              'max_batch': 20000, #All relate to the batch code from Alessio.\n",
    "                              'max_tries' : 10,\n",
    "                              'max_circuit' : 2,\n",
    "                              'verbose': True,\n",
    "                              'calibration_set_id' : None,\n",
    "                              'qubits':None,\n",
    "                              'reduced_coupling_map':None,\n",
    "                              'initial_layout':None,\n",
    "                              'total_req':19,\n",
    "                              'max_concurrent': 10\n",
    "\n",
    "                          \n",
    "\n",
    "\n",
    "}\n",
    "fulldict = Batch_Set_Parameters | Batch_Free_Parameters\n",
    "\n",
    "# By contrast, we here are trying to run a full simulation of an 11 qubit circuit. Fake Apollo is 20 qubits, so should work...\n",
    "rnn_h_short_2 = QRewindingRC_Ansync(**fulldict)\n",
    "data = DataSource(xtype='reactor', ytype='reactor', xnorm='norm', ynorm='norm', rseed_data=9369)\n",
    "rnn_h_short_2.prepare(data)\n",
    "rnn_h_short_2.train(resume=False,wait=True,recheck=600)"
   ]
  },
  {
   "cell_type": "code",
   "execution_count": null,
   "metadata": {},
   "outputs": [],
   "source": [
    "rnn_h_short_2.train(resume=True,wait=True,recheck=3600)"
   ]
  },
  {
   "cell_type": "code",
   "execution_count": null,
   "metadata": {},
   "outputs": [],
   "source": [
    "from src.executor import Resonance_batched_executor\n",
    "\n",
    "Resonance_batched_executor(backend).return_results('Real_Garnet_Batched_Short_train',update=True)"
   ]
  },
  {
   "cell_type": "markdown",
   "metadata": {},
   "source": [
    "Decided Experiment."
   ]
  },
  {
   "cell_type": "code",
   "execution_count": null,
   "metadata": {},
   "outputs": [],
   "source": [
    "Batch_Set_Parameters = {'reset_instead_meas':False, # whether to reset or measure data qubits. Not relevant due to architecture.\n",
    "                             'mend':False, # not used by this architecture.\n",
    "                              'add_y_to_input':True, # In our experiment, this means use previous temperatures to predict future steps.\n",
    "                              'mtype':'projection', # weak measurements are not supported.\n",
    "                              'minc':True, # not used by this architecture.\n",
    "                              'reseti':False, #reset before measurement. Not possible for us.\n",
    "                              'resetm':False, #reset after measurement. Not relevant for us.\n",
    "                              'xyoffset':1, # Use x_t, y_(t-1). Necessary for reactor data.\n",
    "\n",
    "                              #Not used for real backend:\n",
    "                              'sim':'aer_simulator', \n",
    "                              't1':50, \n",
    "                              'sim_method':'statevector', \n",
    "                              'sim_precision':'single',\n",
    "                              'strip_metadata' : False,\n",
    "                              'initial_layout' : None,\n",
    "                              'verbose' : True\n",
    "\n",
    "                              \n",
    "                              \n",
    "                              \n",
    "\n",
    "\n",
    "\n",
    "\n",
    "\n",
    "\n",
    "\n",
    "\n",
    "                             \n",
    "                             }\n",
    "\n",
    "Batch_Free_Parameters = {'use_partial_meas':True, # determines whether measurement results from previous steps are used as features.\n",
    "                              'lookback':0, # Number of previous time steps to be used\n",
    "                              'restarting':False, # If true, uses all previous time steps.\n",
    "                              'lookback_max':False, #If true AND restarting is false, will add time steps before t=0 for ensure lookback. CHECK!\n",
    "                              'washout':0, # Ignore the first <washout> steps when fitting.\n",
    "                              'preloading':0, # Repeat the first step <PREDLOADING> times in data.\n",
    "                              'nmeas':2, # How many measurements are made after each rewind step. Only relevant when using partial measurements.\n",
    "                              'nenccopies':1, #Number of times each data point is entered. Requires more qubits for each repetition. \n",
    "                              'set_past_y_to_0':False, #If true, t<0 steps are set to 0.\n",
    "                              'use_true_y_in_val':False, # If false, Rollout predictions are performed.\n",
    "                              'rseed':0, # Random seed used to choose parameters.\n",
    "                              'log':True, # Save the results of the run. \n",
    "                              'add_x_as_feature':True, #Use x directly as a feature as well as circuit results.\n",
    "                              'nyfuture':1, #How many steps in the future to predict. Only the next step is used for eval.\n",
    "                               'delete_future_y':True, #If predicting multiple future steps, if no step exists, delete (True) or duplicate last (False).\n",
    "                                'fitter':'sklearn', # set to sklearn_poly for higher order fits.\n",
    "                                'regression_model':'regression', #Options: ‘ridge’, ‘lasso’, ‘elasticnet’, ‘linear’.\n",
    "                                'regression_alpha':0.1, # Regularization parameter for ridge, lasso, elasticnet.\n",
    "                                'regression_l1':0.1, #L1 ratio for elasticnet.\n",
    "                                'poly_degree':3, #degree of sklearn_poly polynomial fits.\n",
    "                                'nqubits':5, #Number of qubits for a single Unitary step.\n",
    "                                'qctype':'ising_hadamard', # unitary choice. \n",
    "                                'qinit':'none', #perform an initial step.\n",
    "                                'ftype':3, #N Body correllations to measure.\n",
    "                                'nlayers':1, # How many times the unitary is applied at each step.'\n",
    "                              'enctype':'angle', #How to input data into the circuits.\n",
    "                              'encaxes':1, #How many times to encode the data.\n",
    "                              'measaxes':3, #Number of different Pauli basis to measure.\n",
    "                              'shots':8192,\n",
    "                              'ising_t':1, \n",
    "                              'ising_jmax':1, \n",
    "                              'ising_h':0.1, \n",
    "                              'ising_wmax':10, \n",
    "                              'ising_random':True, \n",
    "                              'ising_jpositive':False, \n",
    "                              'ising_wpositive':False,\n",
    "                              'sim':backend, \n",
    "                              'file_name':'Real_Garnet_Batched_2step',\n",
    "                              'max_batch': 20000, #All relate to the batch code from Alessio.\n",
    "                              'max_tries' : 10,\n",
    "                              'max_circuit' : 500,\n",
    "                              'verbose': True,\n",
    "                              'calibration_set_id' : None,\n",
    "                              'qubits':None,\n",
    "                              'reduced_coupling_map':None,\n",
    "                              'initial_layout':None,\n",
    "                              'total_req':19,\n",
    "                              'max_concurrent': 0\n",
    "\n",
    "                          \n",
    "\n",
    "\n",
    "}\n",
    "fulldict = Batch_Set_Parameters | Batch_Free_Parameters\n",
    "\n",
    "# By contrast, we here are trying to run a full simulation of an 11 qubit circuit. Fake Apollo is 20 qubits, so should work...\n",
    "rnn_h_full_2 = QRewindingRC_Ansync(**fulldict)\n",
    "data = DataSource(xtype='reactor', ytype='reactor', xnorm='norm', ynorm='norm', rseed_data=9369)\n",
    "rnn_h_full_2.prepare(data)\n",
    "#rnn_h_full_2._set_unitary_and_meas()\n",
    "rnn_h_full_2.train(resume=True,wait=True,recheck=600)\n",
    "rnn_h_full_2.qc"
   ]
  },
  {
   "cell_type": "code",
   "execution_count": null,
   "metadata": {},
   "outputs": [],
   "source": [
    "Batch_Set_Parameters = {'reset_instead_meas':False, # whether to reset or measure data qubits. Not relevant due to architecture.\n",
    "                             'mend':False, # not used by this architecture.\n",
    "                              'add_y_to_input':True, # In our experiment, this means use previous temperatures to predict future steps.\n",
    "                              'mtype':'projection', # weak measurements are not supported.\n",
    "                              'minc':True, # not used by this architecture.\n",
    "                              'reseti':False, #reset before measurement. Not possible for us.\n",
    "                              'resetm':False, #reset after measurement. Not relevant for us.\n",
    "                              'xyoffset':1, # Use x_t, y_(t-1). Necessary for reactor data.\n",
    "\n",
    "                              #Not used for real backend:\n",
    "                              'sim':'aer_simulator', \n",
    "                              't1':50, \n",
    "                              'sim_method':'statevector', \n",
    "                              'sim_precision':'single',\n",
    "                              'strip_metadata' : False,\n",
    "                              'initial_layout' : None,\n",
    "                              'verbose' : True\n",
    "\n",
    "                              \n",
    "                              \n",
    "                              \n",
    "\n",
    "\n",
    "\n",
    "\n",
    "\n",
    "\n",
    "\n",
    "\n",
    "                             \n",
    "                             }\n",
    "\n",
    "Batch_Free_Parameters = {'use_partial_meas':True, # determines whether measurement results from previous steps are used as features.\n",
    "                              'lookback':2, # Number of previous time steps to be used\n",
    "                              'restarting':False, # If true, uses all previous time steps.\n",
    "                              'lookback_max':False, #If true AND restarting is false, will add time steps before t=0 for ensure lookback. CHECK!\n",
    "                              'washout':0, # Ignore the first <washout> steps when fitting.\n",
    "                              'preloading':0, # Repeat the first step <PREDLOADING> times in data.\n",
    "                              'nmeas':2, # How many measurements are made after each rewind step. Only relevant when using partial measurements.\n",
    "                              'nenccopies':1, #Number of times each data point is entered. Requires more qubits for each repetition. \n",
    "                              'set_past_y_to_0':False, #If true, t<0 steps are set to 0.\n",
    "                              'use_true_y_in_val':False, # If false, Rollout predictions are performed.\n",
    "                              'rseed':0, # Random seed used to choose parameters.\n",
    "                              'log':True, # Save the results of the run. \n",
    "                              'add_x_as_feature':True, #Use x directly as a feature as well as circuit results.\n",
    "                              'nyfuture':1, #How many steps in the future to predict. Only the next step is used for eval.\n",
    "                               'delete_future_y':True, #If predicting multiple future steps, if no step exists, delete (True) or duplicate last (False).\n",
    "                                'fitter':'sklearn', # set to sklearn_poly for higher order fits.\n",
    "                                'regression_model':'regression', #Options: ‘ridge’, ‘lasso’, ‘elasticnet’, ‘linear’.\n",
    "                                'regression_alpha':0.1, # Regularization parameter for ridge, lasso, elasticnet.\n",
    "                                'regression_l1':0.1, #L1 ratio for elasticnet.\n",
    "                                'poly_degree':3, #degree of sklearn_poly polynomial fits.\n",
    "                                'nqubits':5, #Number of qubits for a single Unitary step.\n",
    "                                'qctype':'ising_hadamard', # unitary choice. \n",
    "                                'qinit':'none', #perform an initial step.\n",
    "                                'ftype':3, #N Body correllations to measure.\n",
    "                                'nlayers':1, # How many times the unitary is applied at each step.'\n",
    "                              'enctype':'angle', #How to input data into the circuits.\n",
    "                              'encaxes':1, #How many times to encode the data.\n",
    "                              'measaxes':3, #Number of different Pauli basis to measure.\n",
    "                              'shots':8192,\n",
    "                              'ising_t':1, \n",
    "                              'ising_jmax':1, \n",
    "                              'ising_h':0.1, \n",
    "                              'ising_wmax':10, \n",
    "                              'ising_random':True, \n",
    "                              'ising_jpositive':False, \n",
    "                              'ising_wpositive':False,\n",
    "                              'sim':backend, \n",
    "                              'file_name':'Real_Garnet_Batched_2step',\n",
    "                              'max_batch': 20000, #All relate to the batch code from Alessio.\n",
    "                              'max_tries' : 10,\n",
    "                              'max_circuit' : 500,\n",
    "                              'verbose': True,\n",
    "                              'calibration_set_id' : None,\n",
    "                              'qubits':None,\n",
    "                              'reduced_coupling_map':None,\n",
    "                              'initial_layout':None,\n",
    "                              'total_req':19,\n",
    "                              'max_concurrent': 0\n",
    "\n",
    "                          \n",
    "\n",
    "\n",
    "}\n",
    "fulldict = Batch_Set_Parameters | Batch_Free_Parameters\n",
    "\n",
    "rnn_h_full_3= QRewindingRC_Ansync(**fulldict)\n",
    "data = DataSource(xtype='reactor', ytype='reactor', xnorm='norm', ynorm='norm', rseed_data=9369)\n",
    "rnn_h_full_3.prepare(data)\n",
    "#rnn_h_full_2._set_unitary_and_meas()\n",
    "rnn_h_full_3.train(resume=False,wait=True,recheck=600)\n"
   ]
  },
  {
   "cell_type": "code",
   "execution_count": null,
   "metadata": {},
   "outputs": [],
   "source": [
    "rnn_h_full_3.qc.draw()"
   ]
  },
  {
   "cell_type": "code",
   "execution_count": null,
   "metadata": {},
   "outputs": [],
   "source": [
    "rnn_h_full_2.total_req"
   ]
  },
  {
   "cell_type": "code",
   "execution_count": null,
   "metadata": {},
   "outputs": [],
   "source": [
    "backend.client._token"
   ]
  },
  {
   "cell_type": "code",
   "execution_count": null,
   "metadata": {},
   "outputs": [],
   "source": [
    "import os\n",
    "\n",
    "import matplotlib.pyplot as plt\n",
    "from iqm.qiskit_iqm import IQMProvider\n",
    "from iqm.qiskit_iqm import IQMFakeAdonis, IQMFakeApollo\n",
    "from iqm.qiskit_iqm.iqm_transpilation import optimize_single_qubit_gates\n",
    "\n",
    "from qiskit.transpiler import CouplingMap\n",
    "from src.mapomatic_functions import *\n",
    "from src.utils import *\n",
    "from src.RM_utils import *\n",
    "from matplotlib import *"
   ]
  },
  {
   "cell_type": "code",
   "execution_count": null,
   "metadata": {},
   "outputs": [],
   "source": [
    "## pick the processor to run. \n",
    "QPU = 'Apollo'\n",
    "backend = IQMFakeAdonis()\n",
    "token = \"287K1FQqLZ9JU+FxO6C4l6TXENKy0SFUO8h5P4po3DIGZeGb5qhzo4AAi21PIAqd\" ## put your respective token\n",
    "\n",
    "## fetch calibration data for that device (currently needs to be adapted in order to get the latest set automatically)\n",
    "calibration_data = get_calibration_data(QPU, token)\n",
    "cmap = backend.coupling_map"
   ]
  },
  {
   "cell_type": "code",
   "execution_count": null,
   "metadata": {},
   "outputs": [],
   "source": [
    "calibration_data"
   ]
  },
  {
   "cell_type": "code",
   "execution_count": null,
   "metadata": {},
   "outputs": [],
   "source": [
    "rnn_h_full_3.qc.num_qubits"
   ]
  },
  {
   "cell_type": "code",
   "execution_count": null,
   "metadata": {},
   "outputs": [],
   "source": [
    "Batch_Set_Parameters = {'reset_instead_meas':False, # whether to reset or measure data qubits. Not relevant due to architecture.\n",
    "                             'mend':False, # not used by this architecture.\n",
    "                              'add_y_to_input':True, # In our experiment, this means use previous temperatures to predict future steps.\n",
    "                              'mtype':'projection', # weak measurements are not supported.\n",
    "                              'minc':True, # not used by this architecture.\n",
    "                              'reseti':False, #reset before measurement. Not possible for us.\n",
    "                              'resetm':False, #reset after measurement. Not relevant for us.\n",
    "                              'xyoffset':1, # Use x_t, y_(t-1). Necessary for reactor data.\n",
    "\n",
    "                              #Not used for real backend:\n",
    "                              'sim':'aer_simulator', \n",
    "                              't1':50, \n",
    "                              'sim_method':'statevector', \n",
    "                              'sim_precision':'single',\n",
    "                              'strip_metadata' : False,\n",
    "                              'initial_layout' : None,\n",
    "                              'verbose' : True\n",
    "\n",
    "                              \n",
    "                              \n",
    "                              \n",
    "\n",
    "\n",
    "\n",
    "\n",
    "\n",
    "\n",
    "\n",
    "\n",
    "                             \n",
    "                             }\n",
    "\n",
    "Batch_Free_Parameters = {'use_partial_meas':True, # determines whether measurement results from previous steps are used as features.\n",
    "                              'lookback':2, # Number of previous time steps to be used\n",
    "                              'restarting':False, # If true, uses all previous time steps.\n",
    "                              'lookback_max':False, #If true AND restarting is false, will add time steps before t=0 for ensure lookback. CHECK!\n",
    "                              'washout':0, # Ignore the first <washout> steps when fitting.\n",
    "                              'preloading':0, # Repeat the first step <PREDLOADING> times in data.\n",
    "                              'nmeas':2, # How many measurements are made after each rewind step. Only relevant when using partial measurements.\n",
    "                              'nenccopies':1, #Number of times each data point is entered. Requires more qubits for each repetition. \n",
    "                              'set_past_y_to_0':False, #If true, t<0 steps are set to 0.\n",
    "                              'use_true_y_in_val':False, # If false, Rollout predictions are performed.\n",
    "                              'rseed':0, # Random seed used to choose parameters.\n",
    "                              'log':True, # Save the results of the run. \n",
    "                              'add_x_as_feature':True, #Use x directly as a feature as well as circuit results.\n",
    "                              'nyfuture':1, #How many steps in the future to predict. Only the next step is used for eval.\n",
    "                               'delete_future_y':True, #If predicting multiple future steps, if no step exists, delete (True) or duplicate last (False).\n",
    "                                'fitter':'sklearn', # set to sklearn_poly for higher order fits.\n",
    "                                'regression_model':'regression', #Options: ‘ridge’, ‘lasso’, ‘elasticnet’, ‘linear’.\n",
    "                                'regression_alpha':0.1, # Regularization parameter for ridge, lasso, elasticnet.\n",
    "                                'regression_l1':0.1, #L1 ratio for elasticnet.\n",
    "                                'poly_degree':3, #degree of sklearn_poly polynomial fits.\n",
    "                                'nqubits':5, #Number of qubits for a single Unitary step.\n",
    "                                'qctype':'ising_hadamard', # unitary choice. \n",
    "                                'qinit':'none', #perform an initial step.\n",
    "                                'ftype':3, #N Body correllations to measure.\n",
    "                                'nlayers':1, # How many times the unitary is applied at each step.'\n",
    "                              'enctype':'angle', #How to input data into the circuits.\n",
    "                              'encaxes':1, #How many times to encode the data.\n",
    "                              'measaxes':3, #Number of different Pauli basis to measure.\n",
    "                              'shots':8192,\n",
    "                              'ising_t':1, \n",
    "                              'ising_jmax':1, \n",
    "                              'ising_h':0.1, \n",
    "                              'ising_wmax':10, \n",
    "                              'ising_random':True, \n",
    "                              'ising_jpositive':False, \n",
    "                              'ising_wpositive':False,\n",
    "                              'sim':backend, \n",
    "                              'file_name':'Real_Garnet_Batched_2step',\n",
    "                              'max_batch': 20000, #All relate to the batch code from Alessio.\n",
    "                              'max_tries' : 10,\n",
    "                              'max_circuit' : 2, #Has to be because of n shots.\n",
    "                              'verbose': True,\n",
    "                              'calibration_set_id' : None,\n",
    "                              'qubits':None,\n",
    "                              'reduced_coupling_map':None,\n",
    "                              'initial_layout':None,\n",
    "                              'total_req':19,\n",
    "                              'max_concurrent': 0,\n",
    "                              'opt_level':3,\n",
    "                              'QPU':'Apollo'\n",
    "\n",
    "                          \n",
    "\n",
    "\n",
    "}\n",
    "fulldict = Batch_Set_Parameters | Batch_Free_Parameters\n",
    "\n",
    "rnn_h_full_3= QRewindingRC_Ansync(**fulldict)\n",
    "data = DataSource(xtype='reactor', ytype='reactor', xnorm='norm', ynorm='norm', rseed_data=9369)\n",
    "rnn_h_full_3.prepare(data)\n",
    "#rnn_h_full_2._set_unitary_and_meas()\n",
    "rnn_h_full_3.train(resume=False,wait=True,recheck=600)\n"
   ]
  },
  {
   "cell_type": "code",
   "execution_count": null,
   "metadata": {},
   "outputs": [],
   "source": [
    "fulldict = Batch_Set_Parameters | Batch_Free_Parameters\n",
    "\n",
    "rnn_h_full_4 =  QRewindingRC_Ansync(**fulldict)\n",
    "rnn_h_full_4.max_circuit"
   ]
  },
  {
   "cell_type": "code",
   "execution_count": null,
   "metadata": {},
   "outputs": [],
   "source": [
    "Batch_Set_Parameters = {'reset_instead_meas':False, # whether to reset or measure data qubits. Not relevant due to architecture.\n",
    "                             'mend':False, # not used by this architecture.\n",
    "                              'add_y_to_input':True, # In our experiment, this means use previous temperatures to predict future steps.\n",
    "                              'mtype':'projection', # weak measurements are not supported.\n",
    "                              'minc':True, # not used by this architecture.\n",
    "                              'reseti':False, #reset before measurement. Not possible for us.\n",
    "                              'resetm':False, #reset after measurement. Not relevant for us.\n",
    "                              'xyoffset':1, # Use x_t, y_(t-1). Necessary for reactor data.\n",
    "\n",
    "                              #Not used for real backend:\n",
    "                              'sim':'aer_simulator', \n",
    "                              't1':50, \n",
    "                              'sim_method':'statevector', \n",
    "                              'sim_precision':'single',\n",
    "                              'strip_metadata' : False,\n",
    "                              'initial_layout' : None,\n",
    "                              'verbose' : True\n",
    "\n",
    "                              \n",
    "                              \n",
    "                              \n",
    "\n",
    "\n",
    "\n",
    "\n",
    "\n",
    "\n",
    "\n",
    "\n",
    "                             \n",
    "                             }\n",
    "\n",
    "Batch_Free_Parameters = {'use_partial_meas':True, # determines whether measurement results from previous steps are used as features.\n",
    "                              'lookback':2, # Number of previous time steps to be used\n",
    "                              'restarting':False, # If true, uses all previous time steps.\n",
    "                              'lookback_max':False, #If true AND restarting is false, will add time steps before t=0 for ensure lookback. CHECK!\n",
    "                              'washout':0, # Ignore the first <washout> steps when fitting.\n",
    "                              'preloading':0, # Repeat the first step <PREDLOADING> times in data.\n",
    "                              'nmeas':2, # How many measurements are made after each rewind step. Only relevant when using partial measurements.\n",
    "                              'nenccopies':1, #Number of times each data point is entered. Requires more qubits for each repetition. \n",
    "                              'set_past_y_to_0':False, #If true, t<0 steps are set to 0.\n",
    "                              'use_true_y_in_val':False, # If false, Rollout predictions are performed.\n",
    "                              'rseed':0, # Random seed used to choose parameters.\n",
    "                              'log':True, # Save the results of the run. \n",
    "                              'add_x_as_feature':True, #Use x directly as a feature as well as circuit results.\n",
    "                              'nyfuture':1, #How many steps in the future to predict. Only the next step is used for eval.\n",
    "                               'delete_future_y':True, #If predicting multiple future steps, if no step exists, delete (True) or duplicate last (False).\n",
    "                                'fitter':'sklearn', # set to sklearn_poly for higher order fits.\n",
    "                                'regression_model':'regression', #Options: ‘ridge’, ‘lasso’, ‘elasticnet’, ‘linear’.\n",
    "                                'regression_alpha':0.1, # Regularization parameter for ridge, lasso, elasticnet.\n",
    "                                'regression_l1':0.1, #L1 ratio for elasticnet.\n",
    "                                'poly_degree':3, #degree of sklearn_poly polynomial fits.\n",
    "                                'nqubits':5, #Number of qubits for a single Unitary step.\n",
    "                                'qctype':'ising_hadamard', # unitary choice. \n",
    "                                'qinit':'none', #perform an initial step.\n",
    "                                'ftype':3, #N Body correllations to measure.\n",
    "                                'nlayers':1, # How many times the unitary is applied at each step.'\n",
    "                              'enctype':'angle', #How to input data into the circuits.\n",
    "                              'encaxes':1, #How many times to encode the data.\n",
    "                              'measaxes':3, #Number of different Pauli basis to measure.\n",
    "                              'shots':8192,\n",
    "                              'ising_t':1, \n",
    "                              'ising_jmax':1, \n",
    "                              'ising_h':0.1, \n",
    "                              'ising_wmax':10, \n",
    "                              'ising_random':True, \n",
    "                              'ising_jpositive':False, \n",
    "                              'ising_wpositive':False,\n",
    "                              'sim':backend, \n",
    "                              'file_name':'Real_Garnet_Batched_2step',\n",
    "                              'max_batch': 20000, #All relate to the batch code from Alessio.\n",
    "                              'max_tries' : 10,\n",
    "                              'max_circuit' : 3, #Has to be because of n shots.\n",
    "                              'verbose': True,\n",
    "                              'calibration_set_id' : None,\n",
    "                              'qubits':None,\n",
    "                              'reduced_coupling_map':None,\n",
    "                              'initial_layout':None,\n",
    "                              'total_req':19,\n",
    "                              'max_concurrent': 100,\n",
    "                              'opt_level':3,\n",
    "                              'QPU':'Apollo'\n",
    "\n",
    "                          \n",
    "\n",
    "\n",
    "}\n",
    "fulldict = Batch_Set_Parameters | Batch_Free_Parameters\n",
    "\n",
    "rnn_h_full_4 =  QRewindingRC_Ansync(**fulldict)\n",
    "rnn_h_full_4.max_circuit#\n",
    "data = DataSource(xtype='reactor', ytype='reactor', xnorm='norm', ynorm='norm', rseed_data=9369)\n",
    "rnn_h_full_4.prepare(data)\n",
    "#rnn_h_full_2._set_unitary_and_meas()\n",
    "rnn_h_full_4.train(resume=True,wait=True,recheck=601)"
   ]
  },
  {
   "cell_type": "code",
   "execution_count": null,
   "metadata": {},
   "outputs": [],
   "source": [
    "len(rnn_h_full_4.data.xval)"
   ]
  },
  {
   "cell_type": "code",
   "execution_count": null,
   "metadata": {},
   "outputs": [],
   "source": [
    "Batch_Set_Parameters = {'reset_instead_meas':False, # whether to reset or measure data qubits. Not relevant due to architecture.\n",
    "                             'mend':False, # not used by this architecture.\n",
    "                              'add_y_to_input':True, # In our experiment, this means use previous temperatures to predict future steps.\n",
    "                              'mtype':'projection', # weak measurements are not supported.\n",
    "                              'minc':True, # not used by this architecture.\n",
    "                              'reseti':False, #reset before measurement. Not possible for us.\n",
    "                              'resetm':False, #reset after measurement. Not relevant for us.\n",
    "                              'xyoffset':1, # Use x_t, y_(t-1). Necessary for reactor data.\n",
    "\n",
    "                              #Not used for real backend:\n",
    "                              'sim':'aer_simulator', \n",
    "                              't1':50, \n",
    "                              'sim_method':'statevector', \n",
    "                              'sim_precision':'single',\n",
    "                              'strip_metadata' : False,\n",
    "                              'initial_layout' : None,\n",
    "                              'verbose' : True\n",
    "\n",
    "                              \n",
    "                              \n",
    "                              \n",
    "\n",
    "\n",
    "\n",
    "\n",
    "\n",
    "\n",
    "\n",
    "\n",
    "                             \n",
    "                             }\n",
    "\n",
    "Batch_Free_Parameters = {'use_partial_meas':True, # determines whether measurement results from previous steps are used as features.\n",
    "                              'lookback':4, # Number of previous time steps to be used\n",
    "                              'restarting':False, # If true, uses all previous time steps.\n",
    "                              'lookback_max':False, #If true AND restarting is false, will add time steps before t=0 for ensure lookback. CHECK!\n",
    "                              'washout':0, # Ignore the first <washout> steps when fitting.\n",
    "                              'preloading':0, # Repeat the first step <PREDLOADING> times in data.\n",
    "                              'nmeas':2, # How many measurements are made after each rewind step. Only relevant when using partial measurements.\n",
    "                              'nenccopies':1, #Number of times each data point is entered. Requires more qubits for each repetition. \n",
    "                              'set_past_y_to_0':False, #If true, t<0 steps are set to 0.\n",
    "                              'use_true_y_in_val':False, # If false, Rollout predictions are performed.\n",
    "                              'rseed':0, # Random seed used to choose parameters.\n",
    "                              'log':True, # Save the results of the run. \n",
    "                              'add_x_as_feature':True, #Use x directly as a feature as well as circuit results.\n",
    "                              'nyfuture':1, #How many steps in the future to predict. Only the next step is used for eval.\n",
    "                               'delete_future_y':True, #If predicting multiple future steps, if no step exists, delete (True) or duplicate last (False).\n",
    "                                'fitter':'sklearn_poly', # set to sklearn_poly for higher order fits.\n",
    "                                'regression_model':'regression', #Options: ‘ridge’, ‘lasso’, ‘elasticnet’, ‘linear’.\n",
    "                                'regression_alpha':0.1, # Regularization parameter for ridge, lasso, elasticnet.\n",
    "                                'regression_l1':0.1, #L1 ratio for elasticnet.\n",
    "                                'poly_degree':3, #degree of sklearn_poly polynomial fits.\n",
    "                                'nqubits':5, #Number of qubits for a single Unitary step.\n",
    "                                'qctype':'ising_hadamard', # unitary choice. \n",
    "                                'qinit':'none', #perform an initial step.\n",
    "                                'ftype':3, #N Body correllations to measure.\n",
    "                                'nlayers':1, # How many times the unitary is applied at each step.'\n",
    "                              'enctype':'angle', #How to input data into the circuits.\n",
    "                              'encaxes':1, #How many times to encode the data.\n",
    "                              'measaxes':3, #Number of different Pauli basis to measure.\n",
    "                              'shots':8192,\n",
    "                              'ising_t':1, \n",
    "                              'ising_jmax':1, \n",
    "                              'ising_h':0.1, \n",
    "                              'ising_wmax':10, \n",
    "                              'ising_random':True, \n",
    "                              'ising_jpositive':False, \n",
    "                              'ising_wpositive':False,\n",
    "                              'sim':backend, \n",
    "                              'file_name':'Real_Garnet_Manual',\n",
    "                              'max_batch': 20000, #All relate to the batch code from Alessio.\n",
    "                              'max_tries' : 10,\n",
    "                              'max_circuit' : 2,\n",
    "                              'verbose': True,\n",
    "                              'calibration_set_id' : None,\n",
    "                              'qubits':None,\n",
    "                              'reduced_coupling_map':None,\n",
    "                              'initial_layout':None,\n",
    "                              'total_req':19,\n",
    "                              'max_concurrent': 100\n",
    "\n",
    "                          \n",
    "\n",
    "\n",
    "}\n",
    "fulldict = Batch_Set_Parameters | Batch_Free_Parameters"
   ]
  },
  {
   "cell_type": "code",
   "execution_count": null,
   "metadata": {},
   "outputs": [],
   "source": [
    "rnn_h_full_custom = QRewindingRC_Custom(**fulldict)"
   ]
  },
  {
   "cell_type": "code",
   "execution_count": null,
   "metadata": {},
   "outputs": [],
   "source": [
    "data = DataSource(xtype='reactor', ytype='reactor', xnorm='norm', ynorm='norm', rseed_data=9369)\n",
    "rnn_h_full_custom.prepare(data)\n",
    "rnn_h_full_custom.train(resume=False,wait=True,recheck=601)"
   ]
  },
  {
   "cell_type": "code",
   "execution_count": null,
   "metadata": {},
   "outputs": [],
   "source": [
    "rnn_h_full_custom.train(resume=True,wait=True,recheck=601)"
   ]
  },
  {
   "cell_type": "code",
   "execution_count": null,
   "metadata": {},
   "outputs": [],
   "source": [
    "testc=rnn_h_full_custom.qc\n",
    "backend = IQMProvider(server_url, token=api_token).get_backend()\n",
    "\n",
    "# Transpile circuit\n",
    "#qc_transpiled = transpile_to_IQM(qc, backend)\n",
    "#print(qc_transpiled.draw(output=\"text\"))\n",
    "\n",
    "# Run circuit\n",
    "job_submit = backend.run(testc, shots=1000)\n",
    "\n",
    "\n"
   ]
  },
  {
   "cell_type": "code",
   "execution_count": null,
   "metadata": {},
   "outputs": [],
   "source": [
    "from iqm.qiskit_iqm import IQMJob\n",
    "submitted_job_id=job_submit.job_id()\n",
    "print(submitted_job_id)\n",
    "retrieved_job = IQMJob(backend,submitted_job_id)\n",
    "test_counts=retrieved_job.result().get_counts()"
   ]
  },
  {
   "cell_type": "code",
   "execution_count": 2,
   "metadata": {},
   "outputs": [
    {
     "name": "stdout",
     "output_type": "stream",
     "text": [
      "IQM\n",
      "<iqm.qiskit_iqm.iqm_provider.IQMBackend object at 0x7f1fe8a26990>\n",
      "You have specified  19 qubits required. Correct?\n"
     ]
    }
   ],
   "source": [
    "Batch_Set_Parameters = {'reset_instead_meas':False, # whether to reset or measure data qubits. Not relevant due to architecture.\n",
    "                             'mend':False, # not used by this architecture.\n",
    "                              'add_y_to_input':True, # In our experiment, this means use previous temperatures to predict future steps.\n",
    "                              'mtype':'projection', # weak measurements are not supported.\n",
    "                              'minc':True, # not used by this architecture.\n",
    "                              'reseti':False, #reset before measurement. Not possible for us.\n",
    "                              'resetm':False, #reset after measurement. Not relevant for us.\n",
    "                              'xyoffset':1, # Use x_t, y_(t-1). Necessary for reactor data.\n",
    "\n",
    "                              #Not used for real backend:\n",
    "                              'sim':'aer_simulator', \n",
    "                              't1':50, \n",
    "                              'sim_method':'statevector', \n",
    "                              'sim_precision':'single',\n",
    "                              'strip_metadata' : False,\n",
    "                              'initial_layout' : None,\n",
    "                              'verbose' : True\n",
    "\n",
    "                              \n",
    "                              \n",
    "                              \n",
    "\n",
    "\n",
    "\n",
    "\n",
    "\n",
    "\n",
    "\n",
    "\n",
    "                             \n",
    "                             }\n",
    "\n",
    "Batch_Free_Parameters = {'use_partial_meas':True, # determines whether measurement results from previous steps are used as features.\n",
    "                              'lookback':4, # Number of previous time steps to be used\n",
    "                              'restarting':False, # If true, uses all previous time steps.\n",
    "                              'lookback_max':False, #If true AND restarting is false, will add time steps before t=0 for ensure lookback. CHECK!\n",
    "                              'washout':0, # Ignore the first <washout> steps when fitting.\n",
    "                              'preloading':0, # Repeat the first step <PREDLOADING> times in data.\n",
    "                              'nmeas':2, # How many measurements are made after each rewind step. Only relevant when using partial measurements.\n",
    "                              'nenccopies':1, #Number of times each data point is entered. Requires more qubits for each repetition. \n",
    "                              'set_past_y_to_0':False, #If true, t<0 steps are set to 0.\n",
    "                              'use_true_y_in_val':False, # If false, Rollout predictions are performed.\n",
    "                              'rseed':0, # Random seed used to choose parameters.\n",
    "                              'log':True, # Save the results of the run. \n",
    "                              'add_x_as_feature':True, #Use x directly as a feature as well as circuit results.\n",
    "                              'nyfuture':1, #How many steps in the future to predict. Only the next step is used for eval.\n",
    "                               'delete_future_y':True, #If predicting multiple future steps, if no step exists, delete (True) or duplicate last (False).\n",
    "                                'fitter':'sklearn_poly', # set to sklearn_poly for higher order fits.\n",
    "                                'regression_model':'regression', #Options: ‘ridge’, ‘lasso’, ‘elasticnet’, ‘linear’.\n",
    "                                'regression_alpha':0.1, # Regularization parameter for ridge, lasso, elasticnet.\n",
    "                                'regression_l1':0.1, #L1 ratio for elasticnet.\n",
    "                                'poly_degree':3, #degree of sklearn_poly polynomial fits.\n",
    "                                'nqubits':5, #Number of qubits for a single Unitary step.\n",
    "                                'qctype':'ising_hadamard', # unitary choice. \n",
    "                                'qinit':'none', #perform an initial step.\n",
    "                                'ftype':3, #N Body correllations to measure.\n",
    "                                'nlayers':1, # How many times the unitary is applied at each step.'\n",
    "                              'enctype':'angle', #How to input data into the circuits.\n",
    "                              'encaxes':1, #How many times to encode the data.\n",
    "                              'measaxes':3, #Number of different Pauli basis to measure.\n",
    "                              'shots':8192,\n",
    "                              'ising_t':1, \n",
    "                              'ising_jmax':1, \n",
    "                              'ising_h':0.1, \n",
    "                              'ising_wmax':10, \n",
    "                              'ising_random':True, \n",
    "                              'ising_jpositive':False, \n",
    "                              'ising_wpositive':False,\n",
    "                              'sim':backend, \n",
    "                              'file_name':'Real_Garnet_Manual_Big_Batch',\n",
    "                              'max_batch': 31250, #All relate to the batch code from Alessio.\n",
    "                              'max_tries' : 10,\n",
    "                              'max_circuit' : 1000,\n",
    "                              'verbose': True,\n",
    "                              'calibration_set_id' : None,\n",
    "                              'qubits':None,\n",
    "                              'reduced_coupling_map':None,\n",
    "                              'initial_layout':None,\n",
    "                              'total_req':19,\n",
    "                              'max_concurrent': 100\n",
    "\n",
    "                          \n",
    "\n",
    "\n",
    "}\n",
    "fulldict = Batch_Set_Parameters | Batch_Free_Parameters\n",
    "\n",
    "\n",
    "rnn_h_full_big_batch = QRewindingRC_Custom(**fulldict)\n",
    "data = DataSource(xtype='reactor', ytype='reactor', xnorm='norm', ynorm='norm', rseed_data=9369)\n",
    "rnn_h_full_big_batch.prepare(data)"
   ]
  },
  {
   "cell_type": "code",
   "execution_count": null,
   "metadata": {},
   "outputs": [],
   "source": []
  },
  {
   "cell_type": "code",
   "execution_count": null,
   "metadata": {},
   "outputs": [],
   "source": [
    "data = DataSource(xtype='reactor', ytype='reactor', xnorm='norm', ynorm='norm', rseed_data=9369)\n",
    "rnn_h_full_big_batch.prepare(data)\n",
    "rnn_h_full_big_batch.train(resume=False,wait=True,recheck=601)"
   ]
  },
  {
   "cell_type": "code",
   "execution_count": null,
   "metadata": {},
   "outputs": [],
   "source": [
    "rnn_h_full_big_batch.train(resume=True,wait=False,recheck=3601)"
   ]
  },
  {
   "cell_type": "code",
   "execution_count": 3,
   "metadata": {},
   "outputs": [],
   "source": [
    "rnn_h_full_big_batch.train_with_preloaded()"
   ]
  },
  {
   "cell_type": "code",
   "execution_count": 10,
   "metadata": {},
   "outputs": [],
   "source": [
    "import pickle as pkl\n",
    "with open('Real_Garnet_Manual_Big_Batch_Reservoir','wb') as file_dump:\n",
    "    pkl.dump(rnn_h_full_big_batch,file_dump)"
   ]
  },
  {
   "cell_type": "code",
   "execution_count": 8,
   "metadata": {},
   "outputs": [
    {
     "data": {
      "image/png": "[encoded data removed]",
      "text/plain": [
       "<Figure size 640x480 with 1 Axes>"
      ]
     },
     "metadata": {},
     "output_type": "display_data"
    },
    {
     "data": {
      "image/png": "[encoded data removed]",
      "text/plain": [
       "<Figure size 640x480 with 1 Axes>"
      ]
     },
     "execution_count": 8,
     "metadata": {},
     "output_type": "execute_result"
    }
   ],
   "source": [
    "rnn_h_full_big_batch.plot_train(px=True, nepisodes=1)"
   ]
  },
  {
   "cell_type": "code",
   "execution_count": 2,
   "metadata": {},
   "outputs": [
    {
     "name": "stdout",
     "output_type": "stream",
     "text": [
      "IQM\n",
      "<iqm.qiskit_iqm.iqm_provider.IQMBackend object at 0x7fe888924f10>\n",
      "You have specified  19 qubits required. Correct?\n"
     ]
    }
   ],
   "source": [
    "Batch_Set_Parameters = {'reset_instead_meas':False, # whether to reset or measure data qubits. Not relevant due to architecture.\n",
    "                             'mend':False, # not used by this architecture.\n",
    "                              'add_y_to_input':True, # In our experiment, this means use previous temperatures to predict future steps.\n",
    "                              'mtype':'projection', # weak measurements are not supported.\n",
    "                              'minc':True, # not used by this architecture.\n",
    "                              'reseti':False, #reset before measurement. Not possible for us.\n",
    "                              'resetm':False, #reset after measurement. Not relevant for us.\n",
    "                              'xyoffset':1, # Use x_t, y_(t-1). Necessary for reactor data.\n",
    "\n",
    "                              #Not used for real backend:\n",
    "                              'sim':'aer_simulator', \n",
    "                              't1':50, \n",
    "                              'sim_method':'statevector', \n",
    "                              'sim_precision':'single',\n",
    "                              'strip_metadata' : False,\n",
    "                              'initial_layout' : None,\n",
    "                              'verbose' : True\n",
    "\n",
    "                              \n",
    "                              \n",
    "                              \n",
    "\n",
    "\n",
    "\n",
    "\n",
    "\n",
    "\n",
    "\n",
    "\n",
    "                             \n",
    "                             }\n",
    "\n",
    "Batch_Free_Parameters = {'use_partial_meas':True, # determines whether measurement results from previous steps are used as features.\n",
    "                              'lookback':4, # Number of previous time steps to be used\n",
    "                              'restarting':False, # If true, uses all previous time steps.\n",
    "                              'lookback_max':False, #If true AND restarting is false, will add time steps before t=0 for ensure lookback. CHECK!\n",
    "                              'washout':0, # Ignore the first <washout> steps when fitting.\n",
    "                              'preloading':0, # Repeat the first step <PREDLOADING> times in data.\n",
    "                              'nmeas':2, # How many measurements are made after each rewind step. Only relevant when using partial measurements.\n",
    "                              'nenccopies':1, #Number of times each data point is entered. Requires more qubits for each repetition. \n",
    "                              'set_past_y_to_0':False, #If true, t<0 steps are set to 0.\n",
    "                              'use_true_y_in_val':False, # If false, Rollout predictions are performed.\n",
    "                              'rseed':0, # Random seed used to choose parameters.\n",
    "                              'log':True, # Save the results of the run. \n",
    "                              'add_x_as_feature':True, #Use x directly as a feature as well as circuit results.\n",
    "                              'nyfuture':1, #How many steps in the future to predict. Only the next step is used for eval.\n",
    "                               'delete_future_y':True, #If predicting multiple future steps, if no step exists, delete (True) or duplicate last (False).\n",
    "                                'fitter':'sklearn_poly', # set to sklearn_poly for higher order fits.\n",
    "                                'regression_model':'regression', #Options: ‘ridge’, ‘lasso’, ‘elasticnet’, ‘linear’.\n",
    "                                'regression_alpha':0.1, # Regularization parameter for ridge, lasso, elasticnet.\n",
    "                                'regression_l1':0.1, #L1 ratio for elasticnet.\n",
    "                                'poly_degree':3, #degree of sklearn_poly polynomial fits.\n",
    "                                'nqubits':5, #Number of qubits for a single Unitary step.\n",
    "                                'qctype':'ising_hadamard', # unitary choice. \n",
    "                                'qinit':'none', #perform an initial step.\n",
    "                                'ftype':3, #N Body correllations to measure.\n",
    "                                'nlayers':1, # How many times the unitary is applied at each step.'\n",
    "                              'enctype':'angle', #How to input data into the circuits.\n",
    "                              'encaxes':1, #How many times to encode the data.\n",
    "                              'measaxes':3, #Number of different Pauli basis to measure.\n",
    "                              'shots':8192,\n",
    "                              'ising_t':1, \n",
    "                              'ising_jmax':1, \n",
    "                              'ising_h':0.1, \n",
    "                              'ising_wmax':10, \n",
    "                              'ising_random':True, \n",
    "                              'ising_jpositive':False, \n",
    "                              'ising_wpositive':False,\n",
    "                              'sim':backend, \n",
    "                              'file_name':'Real_Garnet_Manual_Big_Batch_simulate',\n",
    "                              'max_batch': 31250, #All relate to the batch code from Alessio.\n",
    "                              'max_tries' : 10,\n",
    "                              'max_circuit' : 1000,\n",
    "                              'verbose': True,\n",
    "                              'calibration_set_id' : None,\n",
    "                              'qubits':None,\n",
    "                              'reduced_coupling_map':None,\n",
    "                              'initial_layout':None,\n",
    "                              'total_req':19,\n",
    "                              'max_concurrent': 100,\n",
    "                              'simulate':True\n",
    "                              \n",
    "\n",
    "                          \n",
    "\n",
    "\n",
    "}\n",
    "fulldict = Batch_Set_Parameters | Batch_Free_Parameters\n",
    "\n",
    "\n",
    "rnn_h_full_big_batch_sim = QRewindingRC_Custom(**fulldict)\n",
    "data = DataSource(xtype='reactor', ytype='reactor', xnorm='norm', ynorm='norm', rseed_data=9369)\n",
    "rnn_h_full_big_batch_sim.prepare(data)"
   ]
  },
  {
   "cell_type": "code",
   "execution_count": 3,
   "metadata": {},
   "outputs": [
    {
     "name": "stdout",
     "output_type": "stream",
     "text": [
      "circuits loaded\n"
     ]
    },
    {
     "ename": "UnboundLocalError",
     "evalue": "cannot access local variable 'steps_max' where it is not associated with a value",
     "output_type": "error",
     "traceback": [
      "\u001b[0;31m---------------------------------------------------------------------------\u001b[0m",
      "\u001b[0;31mUnboundLocalError\u001b[0m                         Traceback (most recent call last)",
      "Cell \u001b[0;32mIn[3], line 1\u001b[0m\n\u001b[0;32m----> 1\u001b[0m \u001b[43mrnn_h_full_big_batch_sim\u001b[49m\u001b[38;5;241;43m.\u001b[39;49m\u001b[43mtrain\u001b[49m\u001b[43m(\u001b[49m\u001b[43mresume\u001b[49m\u001b[38;5;241;43m=\u001b[39;49m\u001b[38;5;28;43;01mTrue\u001b[39;49;00m\u001b[43m,\u001b[49m\u001b[43mwait\u001b[49m\u001b[38;5;241;43m=\u001b[39;49m\u001b[38;5;28;43;01mFalse\u001b[39;49;00m\u001b[43m,\u001b[49m\u001b[43mrecheck\u001b[49m\u001b[38;5;241;43m=\u001b[39;49m\u001b[38;5;241;43m3601\u001b[39;49m\u001b[43m)\u001b[49m\n",
      "File \u001b[0;32m~/Python_Proj/Experiment/src/rewinding.py:4490\u001b[0m, in \u001b[0;36mQRewindingRC_Custom.train\u001b[0;34m(self, resume, wait, recheck)\u001b[0m\n\u001b[1;32m   4487\u001b[0m xe \u001b[38;5;241m=\u001b[39m [] \u001b[38;5;66;03m# actions in this episode\u001b[39;00m\n\u001b[1;32m   4488\u001b[0m fe \u001b[38;5;241m=\u001b[39m [] \u001b[38;5;66;03m# features in this episode\u001b[39;00m\n\u001b[0;32m-> 4490\u001b[0m \u001b[38;5;28;01mfor\u001b[39;00m t_pred \u001b[38;5;129;01min\u001b[39;00m \u001b[38;5;28mrange\u001b[39m(\u001b[38;5;28mself\u001b[39m\u001b[38;5;241m.\u001b[39mxyoffset, \u001b[43msteps_max\u001b[49m):\n\u001b[1;32m   4491\u001b[0m     x0 \u001b[38;5;241m=\u001b[39m \u001b[38;5;28mself\u001b[39m\u001b[38;5;241m.\u001b[39m_policy(\u001b[38;5;241m0\u001b[39m, e\u001b[38;5;241m=\u001b[39me, step\u001b[38;5;241m=\u001b[39mt_in, train\u001b[38;5;241m=\u001b[39m\u001b[38;5;28;01mTrue\u001b[39;00m, offset\u001b[38;5;241m=\u001b[39m\u001b[38;5;28mself\u001b[39m\u001b[38;5;241m.\u001b[39mxyoffset)\n\u001b[1;32m   4494\u001b[0m     features_step \u001b[38;5;241m=\u001b[39m []\n",
      "\u001b[0;31mUnboundLocalError\u001b[0m: cannot access local variable 'steps_max' where it is not associated with a value"
     ]
    }
   ],
   "source": [
    "rnn_h_full_big_batch_sim.train(resume=True,wait=False,recheck=3601)"
   ]
  },
  {
   "cell_type": "code",
   "execution_count": 7,
   "metadata": {},
   "outputs": [
    {
     "data": {
      "text/plain": [
       "4"
      ]
     },
     "execution_count": 7,
     "metadata": {},
     "output_type": "execute_result"
    }
   ],
   "source": [
    "rnn_h_full_big_batch_sim.ylookback"
   ]
  },
  {
   "cell_type": "code",
   "execution_count": 4,
   "metadata": {},
   "outputs": [],
   "source": [
    "rnn_h_full_big_batch_sim.train_with_preloaded()"
   ]
  },
  {
   "cell_type": "code",
   "execution_count": 18,
   "metadata": {},
   "outputs": [
    {
     "data": {
      "text/plain": [
       "(55, 1)"
      ]
     },
     "execution_count": 18,
     "metadata": {},
     "output_type": "execute_result"
    }
   ],
   "source": [
    "rnn_h_full_big_batch_sim.data.xtrain[0].shape"
   ]
  },
  {
   "cell_type": "code",
   "execution_count": 20,
   "metadata": {},
   "outputs": [
    {
     "data": {
      "text/plain": [
       "[<matplotlib.lines.Line2D at 0x7fe6b8bd7dd0>]"
      ]
     },
     "execution_count": 20,
     "metadata": {},
     "output_type": "execute_result"
    },
    {
     "data": {
      "image/png": "[encoded data removed]",
      "text/plain": [
       "<Figure size 640x480 with 1 Axes>"
      ]
     },
     "metadata": {},
     "output_type": "display_data"
    }
   ],
   "source": [
    "plt.plot(range(55),rnn_h_full_big_batch_sim.data.ytrain[0])"
   ]
  },
  {
   "cell_type": "code",
   "execution_count": null,
   "metadata": {},
   "outputs": [],
   "source": []
  },
  {
   "cell_type": "code",
   "execution_count": 35,
   "metadata": {},
   "outputs": [
    {
     "data": {
      "text/plain": [
       "1"
      ]
     },
     "execution_count": 35,
     "metadata": {},
     "output_type": "execute_result"
    }
   ],
   "source": [
    "rnn_h_full_big_batch_sim.xyoffset"
   ]
  },
  {
   "cell_type": "code",
   "execution_count": 53,
   "metadata": {},
   "outputs": [
    {
     "data": {
      "text/plain": [
       "array([[2.51327412, 0.48203429],\n",
       "       [2.51327412, 0.48203429],\n",
       "       [2.51327412, 0.48203429],\n",
       "       [2.51327412, 0.48203429]])"
      ]
     },
     "execution_count": 53,
     "metadata": {},
     "output_type": "execute_result"
    }
   ],
   "source": [
    "[a,b]=rnn_h_full_big_batch_sim._init_t_inputs(\n",
    "                x0=rnn_h_full_big_batch_sim.data.xtrain[0][0], y0=rnn_h_full_big_batch_sim.data.ytrain[0][0], \n",
    "                steps_max=200)\n",
    "rnn_h_full_big_batch_sim._policy(0, e=0, step=45, train=True, offset=1)\n",
    "\n",
    "tep=rnn_h_full_big_batch_sim._get_input_t(xe_lookback=a, ye_lookback=b, t_pred=1, t_in=0)\n",
    "tep\n",
    "#rnn_h_full_big_batch_sim._angle_encoding(rnn_h_full_big_batch_sim._get_input_t(xe_lookback=a, ye_lookback=b, t_pred=1, t_in=0))\n",
    "rnn_h_full_big_batch_sim._angle_encoding(tep,rnn_h_full_big_batch_sim.dmin,rnn_h_full_big_batch_sim.dmax)"
   ]
  },
  {
   "cell_type": "code",
   "execution_count": 55,
   "metadata": {},
   "outputs": [
    {
     "data": {
      "text/plain": [
       "2"
      ]
     },
     "execution_count": 55,
     "metadata": {},
     "output_type": "execute_result"
    },
    {
     "ename": "",
     "evalue": "",
     "output_type": "error",
     "traceback": [
      "\u001b[1;31mThe Kernel crashed while executing code in the current cell or a previous cell. \n",
      "\u001b[1;31mPlease review the code in the cell(s) to identify a possible cause of the failure. \n",
      "\u001b[1;31mClick <a href='https://aka.ms/vscodeJupyterKernelCrash'>here</a> for more info. \n",
      "\u001b[1;31mView Jupyter <a href='command:jupyter.viewOutput'>log</a> for further details."
     ]
    }
   ],
   "source": [
    "int(rnn_h_full_big_batch_sim.dimxqc / rnn_h_full_big_batch_sim.nenccopies)"
   ]
  },
  {
   "cell_type": "code",
   "execution_count": 31,
   "metadata": {},
   "outputs": [
    {
     "data": {
      "text/plain": [
       "[<matplotlib.lines.Line2D at 0x7fe719a0e150>]"
      ]
     },
     "execution_count": 31,
     "metadata": {},
     "output_type": "execute_result"
    },
    {
     "data": {
      "image/png": "[encoded data removed]",
      "text/plain": [
       "<Figure size 640x480 with 1 Axes>"
      ]
     },
     "metadata": {},
     "output_type": "display_data"
    }
   ],
   "source": [
    "plt.plot(range(55),rnn_h_full_big_batch_sim._init_t_inputs(\n",
    "                x0=rnn_h_full_big_batch_sim.data.xtrain[0][0], y0=rnn_h_full_big_batch_sim.data.ytrain[0][0], \n",
    "                steps_max=200)[1][0:55])\n",
    "plt.plot(range(55),rnn_h_full_big_batch_sim.data.xtrain[0])"
   ]
  },
  {
   "cell_type": "code",
   "execution_count": 26,
   "metadata": {},
   "outputs": [
    {
     "data": {
      "text/plain": [
       "55"
      ]
     },
     "execution_count": 26,
     "metadata": {},
     "output_type": "execute_result"
    }
   ],
   "source": [
    "len(rnn_h_full_big_batch_sim.data.xtrain[0])"
   ]
  },
  {
   "cell_type": "code",
   "execution_count": 5,
   "metadata": {},
   "outputs": [
    {
     "data": {
      "image/png": "[encoded data removed]",
      "text/plain": [
       "<Figure size 640x480 with 1 Axes>"
      ]
     },
     "metadata": {},
     "output_type": "display_data"
    },
    {
     "data": {
      "image/png": "[encoded data removed]",
      "text/plain": [
       "<Figure size 640x480 with 1 Axes>"
      ]
     },
     "execution_count": 5,
     "metadata": {},
     "output_type": "execute_result"
    }
   ],
   "source": [
    "rnn_h_full_big_batch_sim.plot_train(px=True, nepisodes=1)"
   ]
  },
  {
   "cell_type": "code",
   "execution_count": null,
   "metadata": {},
   "outputs": [],
   "source": [
    "rnn_h_full_big_batch.val(resume=False,wait=True,recheck=3601)"
   ]
  },
  {
   "cell_type": "code",
   "execution_count": null,
   "metadata": {},
   "outputs": [],
   "source": [
    "# We will now try to repair the big batch.\n",
    "data = DataSource(xtype='reactor', ytype='reactor', xnorm='norm', ynorm='norm', rseed_data=9369)\n",
    "rnn_h_full_big_batch.prepare(data)"
   ]
  },
  {
   "cell_type": "code",
   "execution_count": null,
   "metadata": {},
   "outputs": [],
   "source": [
    "from qiskit import qpy\n",
    "with open('Real_Garnet_Manual_Big_Batch_train_circuits/saved_circuits','rb') as file:\n",
    "    saved_circuits=qpy.load(file)\n",
    "rnn_h_full_big_batch.executor.repair('Real_Garnet_Manual_Big_Batch_train',saved_circuits,8192)"
   ]
  },
  {
   "cell_type": "code",
   "execution_count": null,
   "metadata": {},
   "outputs": [],
   "source": [
    "from iqm.qiskit_iqm import IQMJob\n",
    "customjob=IQMJob(backend,'0667aae9-779a-7935-8000-921ccd01b969').status()"
   ]
  },
  {
   "cell_type": "code",
   "execution_count": null,
   "metadata": {},
   "outputs": [],
   "source": [
    "rnn_h_full_big_batch.executor.status('Real_Garnet_Manual_Big_Batch_train',update=True)"
   ]
  },
  {
   "cell_type": "code",
   "execution_count": null,
   "metadata": {},
   "outputs": [],
   "source": [
    "rnn_h_full_custom.transpiled_uni.draw('mpl')"
   ]
  },
  {
   "cell_type": "code",
   "execution_count": null,
   "metadata": {},
   "outputs": [],
   "source": [
    "print(rnn_h_full_custom.init_layout)"
   ]
  },
  {
   "cell_type": "code",
   "execution_count": null,
   "metadata": {},
   "outputs": [],
   "source": [
    "backend.num_qubits"
   ]
  },
  {
   "cell_type": "markdown",
   "metadata": {},
   "source": []
  },
  {
   "cell_type": "code",
   "execution_count": null,
   "metadata": {},
   "outputs": [],
   "source": [
    "from src.circuits import native_circuit\n",
    "ising = native_circuit(nqubits=5, mode='nnc', rseed=9369)\n",
    "\n",
    "ising.draw('mpl')"
   ]
  },
  {
   "cell_type": "code",
   "execution_count": null,
   "metadata": {},
   "outputs": [],
   "source": [
    "from qiskit import QuantumRegister\n",
    "{(QuantumRegister(3, 'qr'), 0): 0,\n",
    " (QuantumRegister(3, 'qr'), 1): 1,\n",
    " (QuantumRegister(3, 'qr'), 2): 2}\n",
    "\n",
    "{'qr[%s])' % i :i for i in range(len(init_layout))}\n"
   ]
  },
  {
   "cell_type": "code",
   "execution_count": null,
   "metadata": {},
   "outputs": [],
   "source": [
    "init_dict"
   ]
  },
  {
   "cell_type": "code",
   "execution_count": null,
   "metadata": {},
   "outputs": [],
   "source": [
    "init_layout"
   ]
  },
  {
   "cell_type": "code",
   "execution_count": null,
   "metadata": {},
   "outputs": [],
   "source": [
    "cmap = backend.coupling_map\n",
    "num_qubit=5\n",
    "qubit_names = [\"QB3\", \"QB8\", \"QB4\", \"QB9\", \"QB13\", \"QB14\", \"QB5\", \"QB10\", \"QB15\", \"QB6\", \"QB11\", \"QB16\", \"QB7\", \"QB12\", \"QB17\", \"QB18\", \"QB19\", \"QB20\", \"QB1\", \"QB2\"]\n",
    "\n",
    "init_layout = [backend.qubit_name_to_index(name) for name in qubit_names][:num_qubit]\n",
    "init_dict={(QuantumRegister(5, 'qr'), i):init_layout[i] for i in range(len(init_layout))}\n",
    "reduced_map = backend.coupling_map.reduce(mapping = init_layout)\n",
    "\n",
    "print(reduced_map)"
   ]
  },
  {
   "cell_type": "code",
   "execution_count": null,
   "metadata": {},
   "outputs": [],
   "source": [
    "init_layout"
   ]
  },
  {
   "cell_type": "code",
   "execution_count": null,
   "metadata": {},
   "outputs": [],
   "source": [
    "init_dict"
   ]
  },
  {
   "cell_type": "code",
   "execution_count": null,
   "metadata": {},
   "outputs": [],
   "source": [
    "print(reduced_map)"
   ]
  },
  {
   "cell_type": "code",
   "execution_count": null,
   "metadata": {},
   "outputs": [],
   "source": [
    "print(init_layout)"
   ]
  },
  {
   "cell_type": "code",
   "execution_count": null,
   "metadata": {},
   "outputs": [],
   "source": [
    "aux_circ=QuantumCircuit(20,2)"
   ]
  },
  {
   "cell_type": "code",
   "execution_count": null,
   "metadata": {},
   "outputs": [],
   "source": [
    "cising=QuantumCircuit(5,2)\n",
    "cising=cising.compose(ising)\n",
    "cising.measure([3,4],[0,1])\n",
    "cising.draw('mpl')"
   ]
  },
  {
   "cell_type": "code",
   "execution_count": null,
   "metadata": {},
   "outputs": [],
   "source": [
    "acp=aux_circ.compose(transpile(cising, basis_gates=['r', 'cz'], optimization_level = 0, coupling_map=reduced_map), qubits=init_layout, clbits=list(range(2)))"
   ]
  },
  {
   "cell_type": "code",
   "execution_count": null,
   "metadata": {},
   "outputs": [],
   "source": [
    "acp.draw('mpl')"
   ]
  },
  {
   "cell_type": "code",
   "execution_count": null,
   "metadata": {},
   "outputs": [],
   "source": [
    "acp._layout"
   ]
  },
  {
   "cell_type": "code",
   "execution_count": null,
   "metadata": {},
   "outputs": [],
   "source": [
    "acp.__dict__.keys()"
   ]
  },
  {
   "cell_type": "code",
   "execution_count": null,
   "metadata": {},
   "outputs": [],
   "source": [
    "init_layout"
   ]
  },
  {
   "cell_type": "code",
   "execution_count": null,
   "metadata": {},
   "outputs": [],
   "source": [
    "from qiskit.circuit import Parameter\n",
    "cising=QuantumCircuit(2,0)\n",
    "tparam=Parameter('test')\n",
    "cising.rz(tparam,0)\n",
    "testc=transpile(cising, basis_gates=['r', 'cz'], optimization_level = 3)\n",
    "testcp=testc.parameters\n",
    "#testp=testc.get_parameter('test')\n",
    "#testc.assign_parameters({'test':0})\n",
    "param_map={k.name:k for k in testc.parameters}\n",
    "testc.assign_parameters({param_map['test']:0.5})"
   ]
  },
  {
   "cell_type": "code",
   "execution_count": null,
   "metadata": {},
   "outputs": [],
   "source": [
    "testcp[0].name"
   ]
  },
  {
   "cell_type": "code",
   "execution_count": null,
   "metadata": {},
   "outputs": [],
   "source": [
    "cising=QuantumCircuit(2,0)\n",
    "tparam=Parameter('test')\n",
    "cising.swap(0,1)\n",
    "transpile(cising, basis_gates=['r', 'cz'], optimization_level = 0).draw('mpl')"
   ]
  },
  {
   "cell_type": "code",
   "execution_count": null,
   "metadata": {},
   "outputs": [],
   "source": [
    "cising=QuantumCircuit(2,0)\n",
    "tparam=Parameter('test')\n",
    "cising.sdg(0)\n",
    "cising.rx(tparam,0)\n",
    "transpile(cising, basis_gates=['r', 'cz'], optimization_level = 0).parameters[0]                                     "
   ]
  },
  {
   "cell_type": "code",
   "execution_count": null,
   "metadata": {},
   "outputs": [],
   "source": []
  }
 ],
 "metadata": {
  "kernelspec": {
   "display_name": "envrl+gitlab",
   "language": "python",
   "name": "python3"
  },
  "language_info": {
   "codemirror_mode": {
    "name": "ipython",
    "version": 3
   },
   "file_extension": ".py",
   "mimetype": "text/x-python",
   "name": "python",
   "nbconvert_exporter": "python",
   "pygments_lexer": "ipython3",
   "version": "3.11.5"
  }
 },
 "nbformat": 4,
 "nbformat_minor": 2
}

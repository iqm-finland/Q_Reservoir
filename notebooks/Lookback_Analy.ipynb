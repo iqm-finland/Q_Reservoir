{
 "cells": [
  {
   "cell_type": "code",
   "execution_count": 2,
   "metadata": {},
   "outputs": [
    {
     "ename": "ImportError",
     "evalue": "cannot import name 'QRewindingRC_Try_2' from 'src.rewinding' (/home/thomascope/Python_Proj/Experiment/src/rewinding.py)",
     "output_type": "error",
     "traceback": [
      "\u001b[0;31m---------------------------------------------------------------------------\u001b[0m",
      "\u001b[0;31mImportError\u001b[0m                               Traceback (most recent call last)",
      "Cell \u001b[0;32mIn[2], line 34\u001b[0m\n\u001b[1;32m     30\u001b[0m fig_path \u001b[38;5;241m=\u001b[39m \u001b[38;5;124mf\u001b[39m\u001b[38;5;124m'\u001b[39m\u001b[38;5;132;01m{\u001b[39;00mmodule_path\u001b[38;5;132;01m}\u001b[39;00m\u001b[38;5;124m/figs\u001b[39m\u001b[38;5;124m'\u001b[39m\n\u001b[1;32m     33\u001b[0m \u001b[38;5;28;01mfrom\u001b[39;00m \u001b[38;5;21;01msrc\u001b[39;00m\u001b[38;5;21;01m.\u001b[39;00m\u001b[38;5;21;01mfeedforward\u001b[39;00m \u001b[38;5;28;01mimport\u001b[39;00m QExtremeLearningMachine, CPolynomialFeedforward\n\u001b[0;32m---> 34\u001b[0m \u001b[38;5;28;01mfrom\u001b[39;00m \u001b[38;5;21;01msrc\u001b[39;00m\u001b[38;5;21;01m.\u001b[39;00m\u001b[38;5;21;01mrewinding\u001b[39;00m \u001b[38;5;28;01mimport\u001b[39;00m QRewindingRC, QRewindingStatevectorRC,QRewindingRC_Try_2\n\u001b[1;32m     35\u001b[0m \u001b[38;5;28;01mfrom\u001b[39;00m \u001b[38;5;21;01msrc\u001b[39;00m\u001b[38;5;21;01m.\u001b[39;00m\u001b[38;5;21;01mdata\u001b[39;00m \u001b[38;5;28;01mimport\u001b[39;00m DataSource\n\u001b[1;32m     37\u001b[0m \u001b[38;5;28;01mfrom\u001b[39;00m \u001b[38;5;21;01miqm\u001b[39;00m\u001b[38;5;21;01m.\u001b[39;00m\u001b[38;5;21;01mqiskit_iqm\u001b[39;00m \u001b[38;5;28;01mimport\u001b[39;00m IQMFakeAdonis\n",
      "\u001b[0;31mImportError\u001b[0m: cannot import name 'QRewindingRC_Try_2' from 'src.rewinding' (/home/thomascope/Python_Proj/Experiment/src/rewinding.py)"
     ]
    }
   ],
   "source": [
    "from qiskit import QuantumCircuit, transpile\n",
    "# from qiskit.providers.aer import QasmSimulator\n",
    "# from qiskit.providers.basicaer import QasmSimulatorPy\n",
    "from qiskit_aer import AerSimulator\n",
    "from qiskit.providers.fake_provider import FakeManila, FakeToronto, FakeJakartaV2, FakeProvider\n",
    "from qiskit.circuit import Parameter\n",
    "from qiskit.circuit.library import PauliEvolutionGate\n",
    "from qiskit.synthesis import QDrift, LieTrotter, SuzukiTrotter\n",
    "\n",
    "import numpy as np\n",
    "import statsmodels.api as sm\n",
    "import matplotlib.pyplot as plt\n",
    "import seaborn as sns\n",
    "import pandas as pd\n",
    "import sklearn.preprocessing as skp\n",
    "from scipy.signal import savgol_filter\n",
    "import os\n",
    "import sys\n",
    "from datetime import date\n",
    "import pathlib\n",
    "import inspect\n",
    "import time\n",
    "import glob\n",
    "\n",
    "import warnings\n",
    "warnings.simplefilter(action='ignore', category=FutureWarning)\n",
    "\n",
    "module_path = os.path.abspath(os.path.join('..')) # qrc_surrogate\n",
    "sys.path.append(module_path)\n",
    "fig_path = f'{module_path}/figs'\n",
    "\n",
    "\n",
    "from src.feedforward import QExtremeLearningMachine, CPolynomialFeedforward\n",
    "from src.rewinding import QRewindingRC, QRewindingStatevectorRC,QRewindingRC_Try_2\n",
    "from src.data import DataSource\n",
    "\n",
    "from iqm.qiskit_iqm import IQMFakeAdonis\n",
    "from iqm.qiskit_iqm import IQMProvider\n",
    "\n",
    "from FakeCoPro import FakeCoPro"
   ]
  },
  {
   "cell_type": "code",
   "execution_count": null,
   "metadata": {},
   "outputs": [
    {
     "data": {
      "text/plain": [
       "<iqm.qiskit_iqm.fake_backends.iqm_fake_backend.IQMFakeBackend at 0x7f74212601d0>"
      ]
     },
     "execution_count": 7,
     "metadata": {},
     "output_type": "execute_result"
    }
   ],
   "source": [
    "FakeCoPro()"
   ]
  },
  {
   "cell_type": "code",
   "execution_count": null,
   "metadata": {},
   "outputs": [],
   "source": [
    "Set_Experimental_Parameters={'reset_instead_meas':False, # whether to reset or measure data qubits. Not relevant due to architecture.\n",
    "                             'mend':False, # not used by this architecture.\n",
    "                              'add_y_to_input':True, # In our experiment, this means use previous temperatures to predict future steps.\n",
    "                              'mtype':'projection', # weak measurements are not supported.\n",
    "                              'minc':True, # not used by this architecture.\n",
    "                              'reseti':False, #reset before measurement. Not possible for us.\n",
    "                              'resetm':False, #reset after measurement. Not relevant for us.\n",
    "                              'xyoffset':1, # Use x_t, y_(t-1). Necessary for reactor data.\n",
    "                              'sim':'aer_simulator', \n",
    "                              't1':50, \n",
    "                              'sim_method':'statevector', \n",
    "                              'sim_precision':'single'\n",
    "\n",
    "                              \n",
    "                              \n",
    "                              \n",
    "\n",
    "\n",
    "\n",
    "\n",
    "\n",
    "\n",
    "\n",
    "\n",
    "                             \n",
    "                             }"
   ]
  },
  {
   "cell_type": "code",
   "execution_count": null,
   "metadata": {},
   "outputs": [
    {
     "name": "stdout",
     "output_type": "stream",
     "text": [
      "IQM\n",
      "<iqm.qiskit_iqm.fake_backends.iqm_fake_backend.IQMFakeBackend object at 0x7f741fa10050>\n"
     ]
    }
   ],
   "source": [
    "Free_Experimental_Parameters={'use_partial_meas':True, # determines whether measurement results from previous steps are used as features.\n",
    "                              'lookback':8, # Number of previous time steps to be used\n",
    "                              'restarting':False, # If true, uses all previous time steps.\n",
    "                              'lookback_max':False, #If true AND restarting is false, will add time steps before t=0 for ensure lookback. CHECK!\n",
    "                              'washout':0, # Ignore the first <washout> steps when fitting.\n",
    "                              'preloading':0, # Repeat the first step <PREDLOADING> times in data.\n",
    "                              'nmeas':2, # How many measurements are made after each rewind step. Only relevant when using partial measurements.\n",
    "                              'nenccopies':1, #Number of times each data point is entered. Requires more qubits for each repetition. \n",
    "                              'set_past_y_to_0':False, #If true, t<0 steps are set to 0.\n",
    "                              'use_true_y_in_val':False, # If false, Rollout predictions are performed.\n",
    "                              'rseed':0, # Random seed used to choose parameters.\n",
    "                              'log':True, # Save the results of the run. \n",
    "                              'add_x_as_feature':True, #Use x directly as a feature as well as circuit results.\n",
    "                              'nyfuture':1, #How many steps in the future to predict. Only the next step is used for eval.\n",
    "                               'delete_future_y':True, #If predicting multiple future steps, if no step exists, delete (True) or duplicate last (False).\n",
    "                                'fitter':'sklearn_poly', # set to sklearn_poly for higher order fits.\n",
    "                                'regression_model':'regression', #Options: ‘ridge’, ‘lasso’, ‘elasticnet’, ‘linear’.\n",
    "                                'regression_alpha':0.1, # Regularization parameter for ridge, lasso, elasticnet.\n",
    "                                'regression_l1':0.1, #L1 ratio for elasticnet.\n",
    "                                'poly_degree':3, #degree of sklearn_poly polynomial fits.\n",
    "                                'nqubits':5, #Number of qubits for a single Unitary step.\n",
    "                                'qctype':'ising_hadamard', # unitary choice. \n",
    "                                'qinit':'none', #perform an initial step.\n",
    "                                'ftype':3, #N Body correllations to measure.\n",
    "                                'nlayers':1, # How many times the unitary is applied at each step.'\n",
    "                              'enctype':'angle', #How to input data into the circuits.\n",
    "                              'encaxes':1, #How many times to encode the data.\n",
    "                              'measaxes':3, #Number of different Pauli basis to measure.\n",
    "                              'shots':8192,\n",
    "                              'ising_t':1, \n",
    "                              'ising_jmax':1, \n",
    "                              'ising_h':0.1, \n",
    "                              'ising_wmax':10, \n",
    "                              'ising_random':True, \n",
    "                              'ising_jpositive':False, \n",
    "                              'ising_wpositive':False,\n",
    "                              'sim':FakeCoPro(), \n",
    "                              't1':50, \n",
    "                              'sim_method':'statevector',\n",
    "                              'sim_precision':'double',\n",
    "                              'file_name':'Fake_CoPro_poly_fit'\n",
    "\n",
    "}\n",
    "\n",
    "fulldict = Set_Experimental_Parameters | Free_Experimental_Parameters\n",
    "\n",
    "# By contrast, we here are trying to run a full simulation of an 11 qubit circuit. Fake Apollo is 20 qubits, so should work...\n",
    "rnn_poly_fit = QRewindingRC_Try_2(**fulldict)\n",
    "data = DataSource(xtype='reactor', ytype='reactor', xnorm='norm', ynorm='norm', rseed_data=9369)\n",
    "rnn_poly_fit.run(data)"
   ]
  },
  {
   "cell_type": "code",
   "execution_count": null,
   "metadata": {},
   "outputs": [],
   "source": []
  }
 ],
 "metadata": {
  "kernelspec": {
   "display_name": "envrl",
   "language": "python",
   "name": "python3"
  },
  "language_info": {
   "codemirror_mode": {
    "name": "ipython",
    "version": 3
   },
   "file_extension": ".py",
   "mimetype": "text/x-python",
   "name": "python",
   "nbconvert_exporter": "python",
   "pygments_lexer": "ipython3",
   "version": "3.11.5"
  }
 },
 "nbformat": 4,
 "nbformat_minor": 2
}

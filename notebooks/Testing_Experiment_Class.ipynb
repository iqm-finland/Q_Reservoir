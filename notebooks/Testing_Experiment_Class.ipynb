{
 "cells": [
  {
   "cell_type": "code",
   "execution_count": 1,
   "metadata": {},
   "outputs": [
    {
     "data": {
      "text/plain": [
       "[4, 5, 6, 7]"
      ]
     },
     "execution_count": 1,
     "metadata": {},
     "output_type": "execute_result"
    }
   ],
   "source": [
    "[*range(4,8)]"
   ]
  },
  {
   "cell_type": "code",
   "execution_count": 2,
   "metadata": {},
   "outputs": [
    {
     "data": {
      "text/plain": [
       "[1, 2, 3, 4, 5, 6]"
      ]
     },
     "execution_count": 2,
     "metadata": {},
     "output_type": "execute_result"
    }
   ],
   "source": [
    "[1,2,3]+[4,5,6]"
   ]
  },
  {
   "cell_type": "code",
   "execution_count": 2,
   "metadata": {},
   "outputs": [],
   "source": [
    "from qiskit import QuantumCircuit, transpile"
   ]
  },
  {
   "cell_type": "code",
   "execution_count": 12,
   "metadata": {},
   "outputs": [],
   "source": []
  },
  {
   "cell_type": "code",
   "execution_count": 3,
   "metadata": {},
   "outputs": [],
   "source": [
    "qctest=QuantumCircuit(4,4)\n",
    "qctest.h(0)\n",
    "qctest.h(1)\n",
    "qctest.h(2)\n",
    "qctest.h(3)\n",
    "qctest.measure_all(add_bits=False)"
   ]
  },
  {
   "cell_type": "code",
   "execution_count": 4,
   "metadata": {},
   "outputs": [
    {
     "data": {
      "text/html": [
       "<pre style=\"word-wrap: normal;white-space: pre;background: #fff0;line-height: 1.1;font-family: &quot;Courier New&quot;,Courier,monospace\">     ┌──────────────┐\n",
       "q_0: ┤0             ├\n",
       "     │              │\n",
       "q_1: ┤1             ├\n",
       "     │              │\n",
       "q_2: ┤2             ├\n",
       "     │              │\n",
       "q_3: ┤              ├\n",
       "     │              │\n",
       "q_4: ┤3             ├\n",
       "     │  circuit-114 │\n",
       "c_0: ╡0             ╞\n",
       "     │              │\n",
       "c_1: ╡1             ╞\n",
       "     │              │\n",
       "c_2: ╡2             ╞\n",
       "     │              │\n",
       "c_3: ╡              ╞\n",
       "     │              │\n",
       "c_4: ╡3             ╞\n",
       "     └──────────────┘</pre>"
      ],
      "text/plain": [
       "     ┌──────────────┐\n",
       "q_0: ┤0             ├\n",
       "     │              │\n",
       "q_1: ┤1             ├\n",
       "     │              │\n",
       "q_2: ┤2             ├\n",
       "     │              │\n",
       "q_3: ┤              ├\n",
       "     │              │\n",
       "q_4: ┤3             ├\n",
       "     │  circuit-114 │\n",
       "c_0: ╡0             ╞\n",
       "     │              │\n",
       "c_1: ╡1             ╞\n",
       "     │              │\n",
       "c_2: ╡2             ╞\n",
       "     │              │\n",
       "c_3: ╡              ╞\n",
       "     │              │\n",
       "c_4: ╡3             ╞\n",
       "     └──────────────┘"
      ]
     },
     "execution_count": 4,
     "metadata": {},
     "output_type": "execute_result"
    }
   ],
   "source": [
    "qcbegin=QuantumCircuit(5,5)\n",
    "qcbegin.append(qctest,qargs=[0,1,2,4],cargs=[0,1,2,4])\n",
    "qcbegin.draw()"
   ]
  },
  {
   "cell_type": "code",
   "execution_count": 21,
   "metadata": {},
   "outputs": [
    {
     "data": {
      "text/html": [
       "<pre style=\"word-wrap: normal;white-space: pre;background: #fff0;line-height: 1.1;font-family: &quot;Courier New&quot;,Courier,monospace\">        ┌───┐ ░ ┌─┐         \n",
       "   q_0: ┤ H ├─░─┤M├─────────\n",
       "        ├───┤ ░ └╥┘┌─┐      \n",
       "   q_1: ┤ H ├─░──╫─┤M├──────\n",
       "        ├───┤ ░  ║ └╥┘┌─┐   \n",
       "   q_2: ┤ H ├─░──╫──╫─┤M├───\n",
       "        ├───┤ ░  ║  ║ └╥┘┌─┐\n",
       "   q_3: ┤ H ├─░──╫──╫──╫─┤M├\n",
       "        └───┘ ░  ║  ║  ║ └╥┘\n",
       "   c: 4/═════════╬══╬══╬══╬═\n",
       "                 ║  ║  ║  ║ \n",
       "meas: 4/═════════╩══╩══╩══╩═\n",
       "                 0  1  2  3 </pre>"
      ],
      "text/plain": [
       "        ┌───┐ ░ ┌─┐         \n",
       "   q_0: ┤ H ├─░─┤M├─────────\n",
       "        ├───┤ ░ └╥┘┌─┐      \n",
       "   q_1: ┤ H ├─░──╫─┤M├──────\n",
       "        ├───┤ ░  ║ └╥┘┌─┐   \n",
       "   q_2: ┤ H ├─░──╫──╫─┤M├───\n",
       "        ├───┤ ░  ║  ║ └╥┘┌─┐\n",
       "   q_3: ┤ H ├─░──╫──╫──╫─┤M├\n",
       "        └───┘ ░  ║  ║  ║ └╥┘\n",
       "   c: 4/═════════╬══╬══╬══╬═\n",
       "                 ║  ║  ║  ║ \n",
       "meas: 4/═════════╩══╩══╩══╩═\n",
       "                 0  1  2  3 "
      ]
     },
     "execution_count": 21,
     "metadata": {},
     "output_type": "execute_result"
    }
   ],
   "source": [
    "qctest.draw()"
   ]
  },
  {
   "cell_type": "code",
   "execution_count": 37,
   "metadata": {},
   "outputs": [],
   "source": [
    "class test1():\n",
    "    def __init__(\n",
    "        self,\n",
    "        # QRewindingRC\n",
    "        internal = 1):\n",
    "        self.internal = internal\n",
    "        self.verify1=1\n",
    "\n",
    "class test2():\n",
    "    def __init__(\n",
    "        self,\n",
    "        # QRewindingRC\n",
    "        internal = 2):\n",
    "        self.internal = internal\n",
    "        self.verify2=1\n",
    "    \n",
    "class jointtest(test2,test1):\n",
    "    def __init__(self):\n",
    "        super().__init__()"
   ]
  },
  {
   "cell_type": "code",
   "execution_count": 38,
   "metadata": {},
   "outputs": [],
   "source": [
    "testj=jointtest()"
   ]
  },
  {
   "cell_type": "code",
   "execution_count": 43,
   "metadata": {},
   "outputs": [
    {
     "name": "stdout",
     "output_type": "stream",
     "text": [
      "[<class '__main__.jointtest'>, <class '__main__.test2'>, <class '__main__.test1'>, <class 'object'>]\n"
     ]
    }
   ],
   "source": [
    "print(jointtest.mro())"
   ]
  },
  {
   "cell_type": "code",
   "execution_count": 41,
   "metadata": {},
   "outputs": [
    {
     "ename": "AttributeError",
     "evalue": "'jointtest' object has no attribute 'verify1'",
     "output_type": "error",
     "traceback": [
      "\u001b[0;31m---------------------------------------------------------------------------\u001b[0m",
      "\u001b[0;31mAttributeError\u001b[0m                            Traceback (most recent call last)",
      "\u001b[1;32mUntitled-1.ipynb Cell 10\u001b[0m line \u001b[0;36m1\n\u001b[0;32m----> <a href='vscode-notebook-cell:Untitled-1.ipynb?jupyter-notebook#X12sdW50aXRsZWQ%3D?line=0'>1</a>\u001b[0m testj\u001b[39m.\u001b[39mverify1\n",
      "\u001b[0;31mAttributeError\u001b[0m: 'jointtest' object has no attribute 'verify1'"
     ]
    }
   ],
   "source": [
    "testj.verify1"
   ]
  },
  {
   "cell_type": "code",
   "execution_count": 19,
   "metadata": {},
   "outputs": [
    {
     "data": {
      "text/plain": [
       "<qiskit.circuit.instructionset.InstructionSet at 0x7f35a381f3a0>"
      ]
     },
     "execution_count": 19,
     "metadata": {},
     "output_type": "execute_result"
    }
   ],
   "source": [
    "qcbegin=QuantumCircuit(5,3)\n",
    "qcbegin.measure(qubit=[0,4],cbit=[0,2])\n"
   ]
  },
  {
   "cell_type": "code",
   "execution_count": 15,
   "metadata": {},
   "outputs": [],
   "source": [
    "from qiskit import Aer"
   ]
  },
  {
   "cell_type": "code",
   "execution_count": 20,
   "metadata": {},
   "outputs": [
    {
     "data": {
      "text/plain": [
       "{'000': 1024}"
      ]
     },
     "execution_count": 20,
     "metadata": {},
     "output_type": "execute_result"
    }
   ],
   "source": [
    "simulator = Aer.get_backend('aer_simulator')\n",
    "circ = transpile(qcbegin, simulator)\n",
    "\n",
    "# Run and get counts\n",
    "result = simulator.run(circ).result()\n",
    "counts = result.get_counts(circ)\n",
    "counts"
   ]
  },
  {
   "cell_type": "code",
   "execution_count": 13,
   "metadata": {},
   "outputs": [
    {
     "data": {
      "text/plain": [
       "['__abstractmethods__',\n",
       " '__class__',\n",
       " '__delattr__',\n",
       " '__dict__',\n",
       " '__dir__',\n",
       " '__doc__',\n",
       " '__eq__',\n",
       " '__format__',\n",
       " '__ge__',\n",
       " '__getattribute__',\n",
       " '__getstate__',\n",
       " '__gt__',\n",
       " '__hash__',\n",
       " '__init__',\n",
       " '__init_subclass__',\n",
       " '__le__',\n",
       " '__lt__',\n",
       " '__module__',\n",
       " '__ne__',\n",
       " '__new__',\n",
       " '__reduce__',\n",
       " '__reduce_ex__',\n",
       " '__repr__',\n",
       " '__setattr__',\n",
       " '__sizeof__',\n",
       " '__slots__',\n",
       " '__str__',\n",
       " '__subclasshook__',\n",
       " '__weakref__',\n",
       " '_abc_impl',\n",
       " '_async',\n",
       " '_backend',\n",
       " '_circuits',\n",
       " '_config',\n",
       " '_executor',\n",
       " '_fn',\n",
       " '_future',\n",
       " '_job_id',\n",
       " '_noise_model',\n",
       " '_qobj',\n",
       " 'backend',\n",
       " 'cancel',\n",
       " 'cancelled',\n",
       " 'circuits',\n",
       " 'done',\n",
       " 'executor',\n",
       " 'in_final_state',\n",
       " 'job_id',\n",
       " 'metadata',\n",
       " 'qobj',\n",
       " 'result',\n",
       " 'running',\n",
       " 'status',\n",
       " 'submit',\n",
       " 'version',\n",
       " 'wait_for_final_state']"
      ]
     },
     "execution_count": 13,
     "metadata": {},
     "output_type": "execute_result"
    }
   ],
   "source": [
    "dir(result)"
   ]
  },
  {
   "cell_type": "code",
   "execution_count": null,
   "metadata": {},
   "outputs": [],
   "source": []
  }
 ],
 "metadata": {
  "kernelspec": {
   "display_name": "envrl",
   "language": "python",
   "name": "python3"
  },
  "language_info": {
   "codemirror_mode": {
    "name": "ipython",
    "version": 3
   },
   "file_extension": ".py",
   "mimetype": "text/x-python",
   "name": "python",
   "nbconvert_exporter": "python",
   "pygments_lexer": "ipython3",
   "version": "3.11.5"
  }
 },
 "nbformat": 4,
 "nbformat_minor": 2
}

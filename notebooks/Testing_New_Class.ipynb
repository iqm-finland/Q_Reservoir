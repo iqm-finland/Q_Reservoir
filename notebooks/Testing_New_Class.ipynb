{
 "cells": [
  {
   "cell_type": "code",
   "execution_count": 1,
   "metadata": {},
   "outputs": [],
   "source": [
    "from qiskit import QuantumCircuit, transpile\n",
    "# from qiskit.providers.aer import QasmSimulator\n",
    "# from qiskit.providers.basicaer import QasmSimulatorPy\n",
    "from qiskit_aer import AerSimulator\n",
    "from qiskit.providers.fake_provider import FakeManila, FakeToronto, FakeJakartaV2, FakeProvider\n",
    "from qiskit.circuit import Parameter\n",
    "from qiskit.circuit.library import PauliEvolutionGate\n",
    "from qiskit.synthesis import QDrift, LieTrotter, SuzukiTrotter\n",
    "\n",
    "import numpy as np\n",
    "import statsmodels.api as sm\n",
    "import matplotlib.pyplot as plt\n",
    "import seaborn as sns\n",
    "import pandas as pd\n",
    "import sklearn.preprocessing as skp\n",
    "from scipy.signal import savgol_filter\n",
    "import os\n",
    "import sys\n",
    "from datetime import date\n",
    "import pathlib\n",
    "import inspect\n",
    "import time\n",
    "import glob\n",
    "\n",
    "import warnings\n",
    "warnings.simplefilter(action='ignore', category=FutureWarning)\n",
    "\n",
    "module_path = os.path.abspath(os.path.join('..')) # qrc_surrogate\n",
    "sys.path.append(module_path)\n",
    "fig_path = f'{module_path}/figs'\n",
    "\n",
    "\n",
    "from src.feedforward import QExtremeLearningMachine, CPolynomialFeedforward\n",
    "from src.rewinding import QRewindingRC, QRewindingStatevectorRC,QRewindingRC_Async,QRewindingRC_Custom,  QRewindingRC_Neat\n",
    "from src.data import DataSource\n",
    "\n",
    "from iqm.qiskit_iqm import IQMFakeAdonis\n",
    "from iqm.qiskit_iqm import IQMProvider,transpile_to_IQM\n",
    "\n",
    "server_url = \"https://cocos.resonance.meetiqm.com/garnet\"  # For example https://cocos.resonance.meetiqm.com/garnet\n",
    "api_token = \"287K1FQqLZ9JU+FxO6C4l6TXENKy0SFUO8h5P4po3DIGZeGb5qhzo4AAi21PIAqd\"\n",
    "\n",
    "SHOTS = 8000\n",
    "\n",
    "backend = IQMProvider(server_url, token=api_token).get_backend()"
   ]
  },
  {
   "cell_type": "code",
   "execution_count": null,
   "metadata": {},
   "outputs": [],
   "source": [
    "Batch_Set_Parameters = {'reset_instead_meas':False, # whether to reset or measure data qubits. Not relevant due to architecture.\n",
    "                             'mend':False, # not used by this architecture.\n",
    "                              'add_y_to_input':True, # In our experiment, this means use previous temperatures to predict future steps.\n",
    "                              'mtype':'projection', # weak measurements are not supported.\n",
    "                              'minc':True, # not used by this architecture.\n",
    "                              'reseti':False, #reset before measurement. Not possible for us.\n",
    "                              'resetm':False, #reset after measurement. Not relevant for us.\n",
    "                              'xyoffset':1, # Use x_t, y_(t-1). Necessary for reactor data.\n",
    "\n",
    "                              #Not used for real backend:\n",
    "                              'sim':'aer_simulator', \n",
    "                              't1':50, \n",
    "                              'sim_method':'statevector', \n",
    "                              'sim_precision':'single',\n",
    "                              'strip_metadata' : False,\n",
    "                              'initial_layout' : None,\n",
    "                              'verbose' : True\n",
    "\n",
    "                              \n",
    "                              \n",
    "                              \n",
    "\n",
    "\n",
    "\n",
    "\n",
    "\n",
    "\n",
    "\n",
    "\n",
    "                             \n",
    "                             }\n",
    "\n",
    "Batch_Free_Parameters = {'use_partial_meas':True, # determines whether measurement results from previous steps are used as features.\n",
    "                              'lookback':4, # Number of previous time steps to be used\n",
    "                              'restarting':False, # If true, uses all previous time steps.\n",
    "                              'lookback_max':False, #If true AND restarting is false, will add time steps before t=0 for ensure lookback. CHECK!\n",
    "                              'washout':0, # Ignore the first <washout> steps when fitting.\n",
    "                              'preloading':0, # Repeat the first step <PREDLOADING> times in data.\n",
    "                              'nmeas':2, # How many measurements are made after each rewind step. Only relevant when using partial measurements.\n",
    "                              'nenccopies':1, #Number of times each data point is entered. Requires more qubits for each repetition. \n",
    "                              'set_past_y_to_0':False, #If true, t<0 steps are set to 0.\n",
    "                              'use_true_y_in_val':False, # If false, Rollout predictions are performed.\n",
    "                              'rseed':0, # Random seed used to choose parameters.\n",
    "                              'log':True, # Save the results of the run. \n",
    "                              'add_x_as_feature':True, #Use x directly as a feature as well as circuit results.\n",
    "                              'nyfuture':1, #How many steps in the future to predict. Only the next step is used for eval.\n",
    "                               'delete_future_y':True, #If predicting multiple future steps, if no step exists, delete (True) or duplicate last (False).\n",
    "                                'fitter':'sklearn_poly', # set to sklearn_poly for higher order fits.\n",
    "                                'regression_model':'regression', #Options: ‘ridge’, ‘lasso’, ‘elasticnet’, ‘linear’.\n",
    "                                'regression_alpha':0.1, # Regularization parameter for ridge, lasso, elasticnet.\n",
    "                                'regression_l1':0.1, #L1 ratio for elasticnet.\n",
    "                                'poly_degree':3, #degree of sklearn_poly polynomial fits.\n",
    "                                'nqubits':5, #Number of qubits for a single Unitary step.\n",
    "                                'qctype':'ising_hadamard', # unitary choice. \n",
    "                                'qinit':'none', #perform an initial step.\n",
    "                                'ftype':3, #N Body correllations to measure.\n",
    "                                'nlayers':1, # How many times the unitary is applied at each step.'\n",
    "                              'enctype':'angle', #How to input data into the circuits.\n",
    "                              'encaxes':1, #How many times to encode the data.\n",
    "                              'measaxes':3, #Number of different Pauli basis to measure.\n",
    "                              'shots':8192,\n",
    "                              'ising_t':1, \n",
    "                              'ising_jmax':1, \n",
    "                              'ising_h':0.1, \n",
    "                              'ising_wmax':10, \n",
    "                              'ising_random':True, \n",
    "                              'ising_jpositive':False, \n",
    "                              'ising_wpositive':False,\n",
    "                              'sim':backend, \n",
    "                              'file_name':'New_Class_Testing',\n",
    "                              'max_batch': 31250, #All relate to the batch code from Alessio.\n",
    "                              'max_tries' : 10,\n",
    "                              'max_circuit' : 1000,\n",
    "                              'verbose': True,\n",
    "                              'calibration_set_id' : None,\n",
    "                              'qubits':None,\n",
    "                              'reduced_coupling_map':None,\n",
    "                              'initial_layout':None,\n",
    "                              'total_req':19,\n",
    "                              'max_concurrent': 100,\n",
    "                              'simulate': True,\n",
    "                              'manual': True\n",
    "\n",
    "                          \n",
    "\n",
    "\n",
    "}\n",
    "fulldict = Batch_Set_Parameters | Batch_Free_Parameters\n",
    "\n",
    "\n",
    "new_class = QRewindingRC_Neat(**fulldict)\n",
    "data = DataSource(xtype='reactor', ytype='reactor', xnorm='norm', ynorm='norm', rseed_data=9369)\n",
    "new_class.prepare(data)"
   ]
  },
  {
   "cell_type": "code",
   "execution_count": null,
   "metadata": {},
   "outputs": [],
   "source": [
    "new_class.train(resume=False)"
   ]
  },
  {
   "cell_type": "code",
   "execution_count": null,
   "metadata": {},
   "outputs": [],
   "source": [
    "new_class.plot_train(px=True, nepisodes=1)"
   ]
  },
  {
   "cell_type": "code",
   "execution_count": null,
   "metadata": {},
   "outputs": [],
   "source": [
    "new_class.mse_train"
   ]
  },
  {
   "cell_type": "code",
   "execution_count": null,
   "metadata": {},
   "outputs": [],
   "source": [
    "Batch_Set_Parameters = {'reset_instead_meas':False, # whether to reset or measure data qubits. Not relevant due to architecture.\n",
    "                             'mend':False, # not used by this architecture.\n",
    "                              'add_y_to_input':True, # In our experiment, this means use previous temperatures to predict future steps.\n",
    "                              'mtype':'projection', # weak measurements are not supported.\n",
    "                              'minc':True, # not used by this architecture.\n",
    "                              'reseti':False, #reset before measurement. Not possible for us.\n",
    "                              'resetm':False, #reset after measurement. Not relevant for us.\n",
    "                              'xyoffset':1, # Use x_t, y_(t-1). Necessary for reactor data.\n",
    "\n",
    "                              #Not used for real backend:\n",
    "                              'sim':'aer_simulator', \n",
    "                              't1':50, \n",
    "                              'sim_method':'statevector', \n",
    "                              'sim_precision':'single',\n",
    "                              'strip_metadata' : False,\n",
    "                              'initial_layout' : None,\n",
    "                              'verbose' : True\n",
    "\n",
    "                              \n",
    "                              \n",
    "                              \n",
    "\n",
    "\n",
    "\n",
    "\n",
    "\n",
    "\n",
    "\n",
    "\n",
    "                             \n",
    "                             }\n",
    "\n",
    "Batch_Free_Parameters = {'use_partial_meas':True, # determines whether measurement results from previous steps are used as features.\n",
    "                              'lookback':4, # Number of previous time steps to be used\n",
    "                              'restarting':False, # If true, uses all previous time steps.\n",
    "                              'lookback_max':False, #If true AND restarting is false, will add time steps before t=0 for ensure lookback. CHECK!\n",
    "                              'washout':0, # Ignore the first <washout> steps when fitting.\n",
    "                              'preloading':0, # Repeat the first step <PREDLOADING> times in data.\n",
    "                              'nmeas':2, # How many measurements are made after each rewind step. Only relevant when using partial measurements.\n",
    "                              'nenccopies':1, #Number of times each data point is entered. Requires more qubits for each repetition. \n",
    "                              'set_past_y_to_0':False, #If true, t<0 steps are set to 0.\n",
    "                              'use_true_y_in_val':False, # If false, Rollout predictions are performed.\n",
    "                              'rseed':0, # Random seed used to choose parameters.\n",
    "                              'log':True, # Save the results of the run. \n",
    "                              'add_x_as_feature':True, #Use x directly as a feature as well as circuit results.\n",
    "                              'nyfuture':1, #How many steps in the future to predict. Only the next step is used for eval.\n",
    "                               'delete_future_y':True, #If predicting multiple future steps, if no step exists, delete (True) or duplicate last (False).\n",
    "                                'fitter':'sklearn', # set to sklearn_poly for higher order fits.\n",
    "                                'regression_model':'regression', #Options: ‘ridge’, ‘lasso’, ‘elasticnet’, ‘linear’.\n",
    "                                'regression_alpha':0.1, # Regularization parameter for ridge, lasso, elasticnet.\n",
    "                                'regression_l1':0.1, #L1 ratio for elasticnet.\n",
    "                                'poly_degree':1, #degree of sklearn_poly polynomial fits.\n",
    "                                'nqubits':5, #Number of qubits for a single Unitary step.\n",
    "                                'qctype':'ising_hadamard', # unitary choice. \n",
    "                                'qinit':'none', #perform an initial step.\n",
    "                                'ftype':3, #N Body correllations to measure.\n",
    "                                'nlayers':1, # How many times the unitary is applied at each step.'\n",
    "                              'enctype':'angle', #How to input data into the circuits.\n",
    "                              'encaxes':1, #How many times to encode the data.\n",
    "                              'measaxes':3, #Number of different Pauli basis to measure.\n",
    "                              'shots':8192,\n",
    "                              'ising_t':1, \n",
    "                              'ising_jmax':1, \n",
    "                              'ising_h':0.1, \n",
    "                              'ising_wmax':10, \n",
    "                              'ising_random':True, \n",
    "                              'ising_jpositive':False, \n",
    "                              'ising_wpositive':False,\n",
    "                              'sim':backend, \n",
    "                              'file_name':'New_Class_Testing',\n",
    "                              'max_batch': 31250, #All relate to the batch code from Alessio.\n",
    "                              'max_tries' : 10,\n",
    "                              'max_circuit' : 1000,\n",
    "                              'verbose': True,\n",
    "                              'calibration_set_id' : None,\n",
    "                              'qubits':None,\n",
    "                              'reduced_coupling_map':None,\n",
    "                              'initial_layout':None,\n",
    "                              'total_req':19,\n",
    "                              'max_concurrent': 100,\n",
    "                              'simulate': True,\n",
    "                              'manual': True\n",
    "\n",
    "                          \n",
    "\n",
    "\n",
    "}\n",
    "fulldict = Batch_Set_Parameters | Batch_Free_Parameters\n"
   ]
  },
  {
   "cell_type": "code",
   "execution_count": null,
   "metadata": {},
   "outputs": [],
   "source": []
  },
  {
   "cell_type": "code",
   "execution_count": null,
   "metadata": {},
   "outputs": [],
   "source": [
    "new_class_lin = QRewindingRC_Neat(**fulldict)\n",
    "data = DataSource(xtype='reactor', ytype='reactor', xnorm='norm', ynorm='norm', rseed_data=9369)\n",
    "new_class_lin.prepare(data)"
   ]
  },
  {
   "cell_type": "code",
   "execution_count": null,
   "metadata": {},
   "outputs": [],
   "source": [
    "new_class_lin.weights.__dict__"
   ]
  },
  {
   "cell_type": "code",
   "execution_count": null,
   "metadata": {},
   "outputs": [],
   "source": [
    "new_class_lin.train(resume=False)"
   ]
  },
  {
   "cell_type": "code",
   "execution_count": null,
   "metadata": {},
   "outputs": [],
   "source": [
    "new_class_lin.plot_train(px=True, nepisodes=1)"
   ]
  },
  {
   "cell_type": "code",
   "execution_count": null,
   "metadata": {},
   "outputs": [],
   "source": [
    "new_class_lin.mse_train"
   ]
  },
  {
   "cell_type": "code",
   "execution_count": null,
   "metadata": {},
   "outputs": [],
   "source": [
    "new_class.__dict__.keys()"
   ]
  },
  {
   "cell_type": "code",
   "execution_count": null,
   "metadata": {},
   "outputs": [],
   "source": [
    "np.round(new_class.weights.coef_,4).shape"
   ]
  },
  {
   "cell_type": "code",
   "execution_count": null,
   "metadata": {},
   "outputs": [],
   "source": [
    "plt.scatter(range(103),np.round(new_class.weights.coef_,4))"
   ]
  },
  {
   "cell_type": "code",
   "execution_count": null,
   "metadata": {},
   "outputs": [],
   "source": [
    "plt.scatter([1,2,3],[1,2,3])"
   ]
  },
  {
   "cell_type": "code",
   "execution_count": 2,
   "metadata": {},
   "outputs": [
    {
     "name": "stdout",
     "output_type": "stream",
     "text": [
      "IQM\n",
      "<iqm.qiskit_iqm.iqm_provider.IQMBackend object at 0x7face5585890>\n",
      "You have specified  19 qubits required. Correct?\n",
      "Using Hard-coded layout\n"
     ]
    }
   ],
   "source": [
    "Batch_Set_Parameters = {'reset_instead_meas':False, # whether to reset or measure data qubits. Not relevant due to architecture.\n",
    "                             'mend':False, # not used by this architecture.\n",
    "                              'add_y_to_input':True, # In our experiment, this means use previous temperatures to predict future steps.\n",
    "                              'mtype':'projection', # weak measurements are not supported.\n",
    "                              'minc':True, # not used by this architecture.\n",
    "                              'reseti':False, #reset before measurement. Not possible for us.\n",
    "                              'resetm':False, #reset after measurement. Not relevant for us.\n",
    "                              'xyoffset':1, # Use x_t, y_(t-1). Necessary for reactor data.\n",
    "\n",
    "                              #Not used for real backend:\n",
    "                              'sim':'aer_simulator', \n",
    "                              't1':50, \n",
    "                              'sim_method':'statevector', \n",
    "                              'sim_precision':'single',\n",
    "                              'strip_metadata' : False,\n",
    "                              'initial_layout' : None,\n",
    "                              'verbose' : True\n",
    "\n",
    "                              \n",
    "                              \n",
    "                              \n",
    "\n",
    "\n",
    "\n",
    "\n",
    "\n",
    "\n",
    "\n",
    "\n",
    "                             \n",
    "                             }\n",
    "\n",
    "Batch_Free_Parameters = {'use_partial_meas':True, # determines whether measurement results from previous steps are used as features.\n",
    "                              'lookback':4, # Number of previous time steps to be used\n",
    "                              'restarting':False, # If true, uses all previous time steps.\n",
    "                              'lookback_max':False, #If true AND restarting is false, will add time steps before t=0 for ensure lookback. CHECK!\n",
    "                              'washout':0, # Ignore the first <washout> steps when fitting.\n",
    "                              'preloading':0, # Repeat the first step <PREDLOADING> times in data.\n",
    "                              'nmeas':2, # How many measurements are made after each rewind step. Only relevant when using partial measurements.\n",
    "                              'nenccopies':1, #Number of times each data point is entered. Requires more qubits for each repetition. \n",
    "                              'set_past_y_to_0':False, #If true, t<0 steps are set to 0.\n",
    "                              'use_true_y_in_val':False, # If false, Rollout predictions are performed.\n",
    "                              'rseed':0, # Random seed used to choose parameters.\n",
    "                              'log':True, # Save the results of the run. \n",
    "                              'add_x_as_feature':False, #Use x directly as a feature as well as circuit results.\n",
    "                              'nyfuture':1, #How many steps in the future to predict. Only the next step is used for eval.\n",
    "                               'delete_future_y':True, #If predicting multiple future steps, if no step exists, delete (True) or duplicate last (False).\n",
    "                                'fitter':'sklearn_poly', # set to sklearn_poly for higher order fits.\n",
    "                                'regression_model':'regression', #Options: ‘ridge’, ‘lasso’, ‘elasticnet’, ‘linear’.\n",
    "                                'regression_alpha':0.1, # Regularization parameter for ridge, lasso, elasticnet.\n",
    "                                'regression_l1':0.1, #L1 ratio for elasticnet.\n",
    "                                'poly_degree':3, #degree of sklearn_poly polynomial fits.\n",
    "                                'nqubits':5, #Number of qubits for a single Unitary step.\n",
    "                                'qctype':'ising_hadamard', # unitary choice. \n",
    "                                'qinit':'none', #perform an initial step.\n",
    "                                'ftype':3, #N Body correllations to measure.\n",
    "                                'nlayers':1, # How many times the unitary is applied at each step.'\n",
    "                              'enctype':'angle', #How to input data into the circuits.\n",
    "                              'encaxes':1, #How many times to encode the data.\n",
    "                              'measaxes':3, #Number of different Pauli basis to measure.\n",
    "                              'shots':8192,\n",
    "                              'ising_t':1, \n",
    "                              'ising_jmax':1, \n",
    "                              'ising_h':0.1, \n",
    "                              'ising_wmax':10, \n",
    "                              'ising_random':True, \n",
    "                              'ising_jpositive':False, \n",
    "                              'ising_wpositive':False,\n",
    "                              'sim':backend, \n",
    "                              'file_name':'New_Class_Testing_no_x',\n",
    "                              'max_batch': 31250, #All relate to the batch code from Alessio.\n",
    "                              'max_tries' : 10,\n",
    "                              'max_circuit' : 1000,\n",
    "                              'verbose': True,\n",
    "                              'calibration_set_id' : None,\n",
    "                              'qubits':None,\n",
    "                              'reduced_coupling_map':None,\n",
    "                              'initial_layout':None,\n",
    "                              'total_req':19,\n",
    "                              'max_concurrent': 100,\n",
    "                              'simulate': True,\n",
    "                              'manual': True\n",
    "\n",
    "                          \n",
    "\n",
    "\n",
    "}\n",
    "fulldict = Batch_Set_Parameters | Batch_Free_Parameters\n",
    "\n",
    "\n",
    "new_class_no_x = QRewindingRC_Neat(**fulldict)\n",
    "data = DataSource(xtype='reactor', ytype='reactor', xnorm='norm', ynorm='norm', rseed_data=9369)\n",
    "new_class_no_x.prepare(data)"
   ]
  },
  {
   "cell_type": "code",
   "execution_count": null,
   "metadata": {},
   "outputs": [],
   "source": [
    "new_class_no_x.train(resume=False)\n"
   ]
  },
  {
   "cell_type": "code",
   "execution_count": null,
   "metadata": {},
   "outputs": [],
   "source": [
    "new_class_no_x.interpret_training_results()\n",
    "print(np.sqrt(new_class_no_x.mse_train))\n",
    "new_class_no_x.plot_train(px=True, nepisodes=1)"
   ]
  },
  {
   "cell_type": "code",
   "execution_count": null,
   "metadata": {},
   "outputs": [],
   "source": [
    "new_class_no_x.reinterpret_with_inputs()\n",
    "print(np.sqrt(new_class_no_x.mse_train))\n",
    "new_class_no_x.plot_train(px=True, nepisodes=1)"
   ]
  },
  {
   "cell_type": "code",
   "execution_count": null,
   "metadata": {},
   "outputs": [],
   "source": [
    "new_class_no_x.reinterpret_only_inputs()\n",
    "print(np.sqrt(new_class_no_x.mse_train))\n",
    "new_class_no_x.plot_train(px=True, nepisodes=1)"
   ]
  },
  {
   "cell_type": "code",
   "execution_count": 3,
   "metadata": {},
   "outputs": [
    {
     "name": "stdout",
     "output_type": "stream",
     "text": [
      "resuming on interpretation\n"
     ]
    }
   ],
   "source": [
    "new_class_no_x.train(resume=True)"
   ]
  },
  {
   "cell_type": "code",
   "execution_count": 4,
   "metadata": {},
   "outputs": [
    {
     "name": "stdout",
     "output_type": "stream",
     "text": [
      "1\n",
      "2\n",
      "3\n",
      "4\n",
      "5\n",
      "6\n",
      "7\n",
      "8\n",
      "9\n",
      "10\n",
      "11\n",
      "12\n",
      "13\n",
      "14\n",
      "15\n",
      "16\n",
      "17\n",
      "18\n",
      "19\n",
      "20\n",
      "21\n",
      "22\n",
      "23\n",
      "24\n",
      "25\n",
      "26\n",
      "27\n",
      "28\n",
      "29\n",
      "30\n",
      "31\n",
      "32\n",
      "33\n",
      "34\n",
      "35\n",
      "36\n",
      "37\n",
      "38\n",
      "39\n",
      "40\n",
      "41\n",
      "42\n",
      "43\n",
      "44\n",
      "45\n",
      "46\n",
      "47\n",
      "48\n",
      "49\n",
      "50\n",
      "51\n",
      "52\n",
      "53\n",
      "54\n",
      "55\n",
      "56\n",
      "57\n",
      "58\n",
      "59\n",
      "60\n",
      "61\n",
      "62\n",
      "63\n",
      "64\n",
      "65\n",
      "66\n",
      "67\n",
      "68\n",
      "69\n",
      "70\n",
      "71\n",
      "72\n",
      "73\n",
      "74\n",
      "75\n",
      "76\n",
      "77\n",
      "78\n",
      "79\n",
      "80\n",
      "81\n",
      "82\n",
      "83\n",
      "84\n",
      "85\n",
      "86\n",
      "87\n",
      "88\n"
     ]
    }
   ],
   "source": [
    "new_class_no_x.val(resume=False)"
   ]
  },
  {
   "cell_type": "code",
   "execution_count": 7,
   "metadata": {},
   "outputs": [
    {
     "name": "stdout",
     "output_type": "stream",
     "text": [
      "MSE per episode\n",
      " [[  6.         293.35035859]\n",
      " [  0.         338.47646806]\n",
      " [ 10.         367.29738807]\n",
      " [  9.         386.46662524]\n",
      " [  1.         414.7482192 ]\n",
      " [  8.         418.96610466]\n",
      " [  7.         419.93995427]\n",
      " [ 13.         421.18316729]\n",
      " [  5.         460.61866284]\n",
      " [  4.         463.8489762 ]\n",
      " [  3.         551.15496906]\n",
      " [ 11.         557.80748067]\n",
      " [  2.         584.9727996 ]\n",
      " [ 12.         638.92609909]\n",
      " [ 14.         639.41539343]]\n"
     ]
    },
    {
     "data": {
      "image/png": "[encoded data removed]",
      "text/plain": [
       "<Figure size 640x480 with 1 Axes>"
      ]
     },
     "metadata": {},
     "output_type": "display_data"
    },
    {
     "data": {
      "image/png": "[encoded data removed]",
      "text/plain": [
       "<Figure size 640x480 with 1 Axes>"
      ]
     },
     "execution_count": 7,
     "metadata": {},
     "output_type": "execute_result"
    }
   ],
   "source": [
    "new_class_no_x.plot_best_val_episodes(None,1)"
   ]
  },
  {
   "cell_type": "code",
   "execution_count": 3,
   "metadata": {},
   "outputs": [
    {
     "name": "stdout",
     "output_type": "stream",
     "text": [
      "Loaded counts from file\n",
      "88\r"
     ]
    }
   ],
   "source": [
    "new_class_no_x.reinterpret_with_inputs()\n",
    "new_class_no_x.val_with_inputs(resume=False)"
   ]
  },
  {
   "cell_type": "code",
   "execution_count": 4,
   "metadata": {},
   "outputs": [
    {
     "name": "stdout",
     "output_type": "stream",
     "text": [
      "MSE per episode\n",
      " [[ 9.          2.68292981]\n",
      " [ 8.          3.83493731]\n",
      " [ 7.          3.85052276]\n",
      " [10.          4.1900668 ]\n",
      " [ 2.          5.29520494]\n",
      " [ 1.          5.42735575]\n",
      " [ 3.          6.06416525]\n",
      " [11.          6.37558433]\n",
      " [ 5.          7.05641887]\n",
      " [ 6.          7.10682611]\n",
      " [ 4.          7.28040835]\n",
      " [ 0.          8.7712343 ]\n",
      " [13.         16.00182936]\n",
      " [14.         16.81792122]\n",
      " [12.         21.68476113]]\n"
     ]
    },
    {
     "data": {
      "image/png": "[encoded data removed]",
      "text/plain": [
       "<Figure size 640x480 with 1 Axes>"
      ]
     },
     "metadata": {},
     "output_type": "display_data"
    },
    {
     "data": {
      "text/plain": [
       "2.9516873108956934"
      ]
     },
     "execution_count": 4,
     "metadata": {},
     "output_type": "execute_result"
    }
   ],
   "source": [
    "new_class_no_x.plot_best_val_episodes(None,1)\n",
    "np.sqrt(new_class_no_x.mse_val)"
   ]
  },
  {
   "cell_type": "code",
   "execution_count": 5,
   "metadata": {},
   "outputs": [
    {
     "name": "stdout",
     "output_type": "stream",
     "text": [
      "Loaded counts from file\n",
      "MSE per episode\n",
      " [[ 8.          2.90188209]\n",
      " [ 9.          3.01524225]\n",
      " [ 2.          3.87599802]\n",
      " [11.          4.0087617 ]\n",
      " [ 3.          4.19590477]\n",
      " [ 7.          4.20782566]\n",
      " [ 1.          4.42857194]\n",
      " [10.          5.19357637]\n",
      " [ 6.          5.33146174]\n",
      " [ 0.          6.32139225]\n",
      " [ 5.          6.37910212]\n",
      " [ 4.          7.29529154]\n",
      " [13.         11.17695351]\n",
      " [14.         14.5373452 ]\n",
      " [12.         18.4052882 ]]\n"
     ]
    },
    {
     "data": {
      "image/png": "[encoded data removed]",
      "text/plain": [
       "<Figure size 640x480 with 1 Axes>"
      ]
     },
     "metadata": {},
     "output_type": "display_data"
    },
    {
     "data": {
      "text/plain": [
       "2.6894616989247573"
      ]
     },
     "execution_count": 5,
     "metadata": {},
     "output_type": "execute_result"
    }
   ],
   "source": [
    "new_class_no_x.reinterpret_only_inputs()\n",
    "new_class_no_x.val_only_inputs(resume=False)\n",
    "new_class_no_x.plot_best_val_episodes(None,1)\n",
    "np.sqrt(new_class_no_x.mse_val)"
   ]
  },
  {
   "cell_type": "code",
   "execution_count": 21,
   "metadata": {},
   "outputs": [
    {
     "data": {
      "text/plain": [
       "array([0.11995117])"
      ]
     },
     "execution_count": 21,
     "metadata": {},
     "output_type": "execute_result"
    }
   ],
   "source": [
    "np.array(new_class_no_x.data.yval[0][0])"
   ]
  },
  {
   "cell_type": "code",
   "execution_count": 24,
   "metadata": {},
   "outputs": [
    {
     "data": {
      "text/plain": [
       "(56, 1)"
      ]
     },
     "execution_count": 24,
     "metadata": {},
     "output_type": "execute_result"
    }
   ],
   "source": [
    "new_class_no_x.yval[0].shape"
   ]
  },
  {
   "cell_type": "code",
   "execution_count": 25,
   "metadata": {},
   "outputs": [
    {
     "data": {
      "text/plain": [
       "array([[0.11995117],\n",
       "       [0.49356698],\n",
       "       [0.49792897],\n",
       "       [0.5030278 ],\n",
       "       [0.48161087],\n",
       "       [0.51022287],\n",
       "       [0.49940727],\n",
       "       [0.55666126],\n",
       "       [0.62819152],\n",
       "       [0.70916968],\n",
       "       [0.80327339],\n",
       "       [0.90490814],\n",
       "       [0.91888421],\n",
       "       [0.98889562],\n",
       "       [0.9723969 ],\n",
       "       [0.99165198],\n",
       "       [0.97390881],\n",
       "       [0.94999247],\n",
       "       [0.98920815],\n",
       "       [0.99429127],\n",
       "       [1.        ],\n",
       "       [0.97283612],\n",
       "       [0.97649786],\n",
       "       [0.97450138],\n",
       "       [0.9459537 ],\n",
       "       [1.        ],\n",
       "       [0.97950443],\n",
       "       [1.        ],\n",
       "       [0.97631192],\n",
       "       [0.92785254],\n",
       "       [0.95290275],\n",
       "       [0.97510954],\n",
       "       [0.95862558],\n",
       "       [0.96822426],\n",
       "       [0.99201371],\n",
       "       [1.        ],\n",
       "       [1.        ],\n",
       "       [1.        ],\n",
       "       [1.        ],\n",
       "       [0.95412687],\n",
       "       [0.98700961],\n",
       "       [0.98833082],\n",
       "       [0.98288297],\n",
       "       [0.99572172],\n",
       "       [0.999218  ],\n",
       "       [1.        ],\n",
       "       [0.97954584],\n",
       "       [0.98547865],\n",
       "       [0.94907422],\n",
       "       [0.95064737],\n",
       "       [0.99812334],\n",
       "       [0.94969717],\n",
       "       [0.99707651],\n",
       "       [0.99143369],\n",
       "       [1.        ],\n",
       "       [1.        ],\n",
       "       [1.        ]])"
      ]
     },
     "execution_count": 25,
     "metadata": {},
     "output_type": "execute_result"
    }
   ],
   "source": [
    "np.concatenate([np.array([new_class_no_x.data.yval[0][0]]),new_class_no_x.yval[0]])"
   ]
  },
  {
   "cell_type": "code",
   "execution_count": 7,
   "metadata": {},
   "outputs": [
    {
     "data": {
      "text/plain": [
       "56"
      ]
     },
     "execution_count": 7,
     "metadata": {},
     "output_type": "execute_result"
    }
   ],
   "source": [
    "len(new_class_no_x.yval[0])"
   ]
  },
  {
   "cell_type": "code",
   "execution_count": 7,
   "metadata": {},
   "outputs": [
    {
     "data": {
      "text/plain": [
       "[57, 57]"
      ]
     },
     "execution_count": 7,
     "metadata": {},
     "output_type": "execute_result"
    }
   ],
   "source": [
    "[len(new_class_no_x.data.xval[0]),len(new_class_no_x.data.yval[0])]"
   ]
  },
  {
   "cell_type": "code",
   "execution_count": 18,
   "metadata": {},
   "outputs": [],
   "source": [
    "import pickle as pkl\n",
    "with open('New_Class_Testing_no_x_val/%s/saved_ypred.pkl' % (87),'rb') as ypred_file:\n",
    "        test_all=pkl.load(ypred_file)"
   ]
  },
  {
   "cell_type": "code",
   "execution_count": 19,
   "metadata": {},
   "outputs": [
    {
     "name": "stdout",
     "output_type": "stream",
     "text": [
      "57\n"
     ]
    }
   ],
   "source": [
    "test_allc=test_all[0]\n",
    "test_allc.insert(0,1)\n",
    "print(len(test_allc))\n"
   ]
  },
  {
   "cell_type": "code",
   "execution_count": 14,
   "metadata": {},
   "outputs": [
    {
     "data": {
      "text/plain": [
       "[100, 1, 2, 3, 4]"
      ]
     },
     "execution_count": 14,
     "metadata": {},
     "output_type": "execute_result"
    }
   ],
   "source": [
    "teestc=[1,2,3,4]\n",
    "teestc.insert(0,100)\n",
    "teestc"
   ]
  },
  {
   "cell_type": "code",
   "execution_count": 8,
   "metadata": {},
   "outputs": [
    {
     "data": {
      "text/plain": [
       "[57, 57, 59, 57, 60, 62, 56, 59, 58, 57, 58, 58, 88, 56, 55]"
      ]
     },
     "execution_count": 8,
     "metadata": {},
     "output_type": "execute_result"
    }
   ],
   "source": [
    "[len(x) for x in new_class_no_x.data.xval]"
   ]
  },
  {
   "cell_type": "code",
   "execution_count": 9,
   "metadata": {},
   "outputs": [
    {
     "data": {
      "text/plain": [
       "(204, 1)"
      ]
     },
     "execution_count": 9,
     "metadata": {},
     "output_type": "execute_result"
    }
   ],
   "source": [
    "new_class_no_x.xval[0].shape"
   ]
  },
  {
   "cell_type": "code",
   "execution_count": 7,
   "metadata": {},
   "outputs": [
    {
     "data": {
      "text/plain": [
       "array([1, 2, 3])"
      ]
     },
     "execution_count": 7,
     "metadata": {},
     "output_type": "execute_result"
    }
   ],
   "source": [
    "test=np.array([1,2,3,4,5,6])\n",
    "test[test<4]"
   ]
  },
  {
   "cell_type": "code",
   "execution_count": null,
   "metadata": {},
   "outputs": [],
   "source": [
    "('test'+('_%s/saved_circuits' % (0)),'wb')"
   ]
  },
  {
   "cell_type": "code",
   "execution_count": null,
   "metadata": {},
   "outputs": [],
   "source": [
    "new_class_no_x.reinterpret_with_inputs()"
   ]
  },
  {
   "cell_type": "code",
   "execution_count": null,
   "metadata": {},
   "outputs": [],
   "source": [
    "new_class_no_x.plot_train(px=True, nepisodes=1)"
   ]
  },
  {
   "cell_type": "code",
   "execution_count": null,
   "metadata": {},
   "outputs": [],
   "source": [
    "new_class_no_x.weights.coef_.shape"
   ]
  },
  {
   "cell_type": "code",
   "execution_count": null,
   "metadata": {},
   "outputs": [],
   "source": [
    "plt.plot(range(110),new_class_no_x.weights.coef_.reshape(110,1))"
   ]
  },
  {
   "cell_type": "code",
   "execution_count": 17,
   "metadata": {},
   "outputs": [
    {
     "name": "stdout",
     "output_type": "stream",
     "text": [
      "1\n",
      "3\n",
      "5\n",
      "7\n",
      "9\n"
     ]
    }
   ],
   "source": [
    "for i in range(10):\n",
    "    if i%2==0:\n",
    "        continue\n",
    "    print(i)"
   ]
  },
  {
   "cell_type": "code",
   "execution_count": null,
   "metadata": {},
   "outputs": [],
   "source": []
  }
 ],
 "metadata": {
  "kernelspec": {
   "display_name": "envrl+gitlab",
   "language": "python",
   "name": "python3"
  },
  "language_info": {
   "codemirror_mode": {
    "name": "ipython",
    "version": 3
   },
   "file_extension": ".py",
   "mimetype": "text/x-python",
   "name": "python",
   "nbconvert_exporter": "python",
   "pygments_lexer": "ipython3",
   "version": "3.11.5"
  }
 },
 "nbformat": 4,
 "nbformat_minor": 2
}
